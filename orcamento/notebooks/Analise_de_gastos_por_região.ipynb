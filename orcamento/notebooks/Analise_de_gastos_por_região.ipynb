{
  "nbformat": 4,
  "nbformat_minor": 0,
  "metadata": {
    "colab": {
      "provenance": []
    },
    "kernelspec": {
      "name": "python3",
      "display_name": "Python 3"
    },
    "language_info": {
      "name": "python"
    }
  },
  "cells": [
    {
      "cell_type": "markdown",
      "source": [
        "## Análise de gastos por Região/Localidade | Guardians\n",
        "\n",
        "**🔹 Objetivo principal**\n",
        "\n",
        "1. Entender a distribuição das dotação em diferentes localizadores e regiões.\n",
        "\n",
        "**🔹 Objetivos específicos**\n",
        "1. Identificar os localizadores com as maiores e menores Dotação Atuais.\n",
        "\n",
        "2. Identificar as regiões com as maiores e menores Dotação Atuais.\n",
        "\n",
        "3. Verificar se existem localizadores ou regiões que precisam de uma revisão orçamentária com base nas diferenças entre a Dotacao Inicial e a Dotacao Atual."
      ],
      "metadata": {
        "id": "Q5W6znclFftn"
      }
    },
    {
      "cell_type": "code",
      "execution_count": null,
      "metadata": {
        "id": "3ndrEGFrwgG3"
      },
      "outputs": [],
      "source": [
        "# importação das bibliotecas para análise em python.\n",
        "\n",
        "import pandas as pd\n",
        "pd.plotting.register_matplotlib_converters()\n",
        "import matplotlib.pyplot as plt\n",
        "%matplotlib inline\n",
        "import seaborn as sns"
      ]
    },
    {
      "cell_type": "code",
      "source": [
        "# importação dos dados do orçamento da UFCG por meio do github.\n",
        "\n",
        "df = pd.read_csv(\"https://raw.githubusercontent.com/Guardians-DSC/dados/main/orcamento/consulta_siop_orcamento_ufcg.csv\")"
      ],
      "metadata": {
        "id": "p1XKVSb8xj7f"
      },
      "execution_count": null,
      "outputs": []
    },
    {
      "cell_type": "markdown",
      "source": [
        "## 1° etapa\n",
        "Tratar o dataframe.\n"
      ],
      "metadata": {
        "id": "umrqwVdbFUAB"
      }
    },
    {
      "cell_type": "code",
      "source": [
        "# todas as colunas existentes no dataframe.\n",
        "\n",
        "df.columns"
      ],
      "metadata": {
        "colab": {
          "base_uri": "https://localhost:8080/"
        },
        "id": "4XqqiXVP6Mho",
        "outputId": "d99dd56f-0145-4b4d-909b-d2417f475c7b"
      },
      "execution_count": null,
      "outputs": [
        {
          "output_type": "execute_result",
          "data": {
            "text/plain": [
              "Index(['ano', 'orgao_orcamentario', 'funcao', 'unidade_orcamentaria',\n",
              "       'programa', 'acao', 'localizador', 'regiao', 'uf', 'municipio',\n",
              "       'plano_orcamentario', 'grupo_de_despesa', 'modalidade_de_aplicacao',\n",
              "       'natureza_de_despesa', 'resultado_primario', 'fonte', 'subfuncao',\n",
              "       'origem_do_credito', 'objetivo', 'projeto_de_lei', 'dotacao_inicial',\n",
              "       'dotacao_atual', 'empenhado', 'liquidado', 'pago'],\n",
              "      dtype='object')"
            ]
          },
          "metadata": {},
          "execution_count": 129
        }
      ]
    },
    {
      "cell_type": "code",
      "source": [
        "# simplificação da tabela, nesta etapa apenas 8 colunas serão consideradas para atingir os objetivos.\n",
        "\n",
        "colunas_informacoes = ['ano', 'localizador', 'regiao', 'fonte', 'projeto_de_lei', 'dotacao_inicial', 'dotacao_atual', 'pago']\n",
        "dados_regioes = df[colunas_informacoes].dropna()\n",
        "\n",
        "dados_regioes.columns = ['Ano', 'Localizador', 'Região', 'Fonte', 'Projeto de Lei', 'Dotacao Inicial', 'Dotacao Atual', 'Pago']"
      ],
      "metadata": {
        "id": "MLAw5v1H7mvh"
      },
      "execution_count": null,
      "outputs": []
    },
    {
      "cell_type": "code",
      "source": [
        "# vericando os tipos referentes a cada coluna.\n",
        "\n",
        "dados_regioes.info()"
      ],
      "metadata": {
        "colab": {
          "base_uri": "https://localhost:8080/"
        },
        "id": "WdfnIea0yVO7",
        "outputId": "271f6564-f1fd-4522-af49-bfbdc116611f"
      },
      "execution_count": null,
      "outputs": [
        {
          "output_type": "stream",
          "name": "stdout",
          "text": [
            "<class 'pandas.core.frame.DataFrame'>\n",
            "RangeIndex: 4963 entries, 0 to 4962\n",
            "Data columns (total 8 columns):\n",
            " #   Column           Non-Null Count  Dtype \n",
            "---  ------           --------------  ----- \n",
            " 0   Ano              4963 non-null   int64 \n",
            " 1   Localizador      4963 non-null   object\n",
            " 2   Região           4963 non-null   object\n",
            " 3   Fonte            4963 non-null   object\n",
            " 4   Projeto de Lei   4963 non-null   object\n",
            " 5   Dotacao Inicial  4963 non-null   object\n",
            " 6   Dotacao Atual    4963 non-null   object\n",
            " 7   Pago             4963 non-null   object\n",
            "dtypes: int64(1), object(7)\n",
            "memory usage: 310.3+ KB\n"
          ]
        }
      ]
    },
    {
      "cell_type": "code",
      "source": [
        "# ajustando os tipos das colunas numericas.\n",
        "\n",
        "dados_regioes[\"Pago\"] = dados_regioes[\"Pago\"].str.replace(\".\", \"\")\n",
        "dados_regioes[\"Pago\"] = pd.to_numeric(dados_regioes[\"Pago\"])"
      ],
      "metadata": {
        "colab": {
          "base_uri": "https://localhost:8080/"
        },
        "id": "nRH0136K-3VN",
        "outputId": "1279eaf9-e325-4409-d586-5395b2b0cd6a"
      },
      "execution_count": null,
      "outputs": [
        {
          "output_type": "stream",
          "name": "stderr",
          "text": [
            "<ipython-input-132-e4ab9a3756ee>:3: FutureWarning: The default value of regex will change from True to False in a future version. In addition, single character regular expressions will *not* be treated as literal strings when regex=True.\n",
            "  dados_regioes[\"Pago\"] = dados_regioes[\"Pago\"].str.replace(\".\", \"\")\n"
          ]
        }
      ]
    },
    {
      "cell_type": "code",
      "source": [
        "# ajustando os tipos das colunas numericas.\n",
        "\n",
        "dados_regioes[\"Dotacao Inicial\"] = dados_regioes[\"Dotacao Inicial\"].str.replace(\".\", \"\")\n",
        "dados_regioes[\"Dotacao Inicial\"] = pd.to_numeric(dados_regioes[\"Dotacao Inicial\"])"
      ],
      "metadata": {
        "colab": {
          "base_uri": "https://localhost:8080/"
        },
        "id": "1NxjE49U_iWy",
        "outputId": "9d322c5a-35a8-4541-f8e5-fe9e0da7d0c6"
      },
      "execution_count": null,
      "outputs": [
        {
          "output_type": "stream",
          "name": "stderr",
          "text": [
            "<ipython-input-133-4829165394bd>:3: FutureWarning: The default value of regex will change from True to False in a future version. In addition, single character regular expressions will *not* be treated as literal strings when regex=True.\n",
            "  dados_regioes[\"Dotacao Inicial\"] = dados_regioes[\"Dotacao Inicial\"].str.replace(\".\", \"\")\n"
          ]
        }
      ]
    },
    {
      "cell_type": "code",
      "source": [
        "# ajustando os tipos das colunas numericas.\n",
        "\n",
        "dados_regioes[\"Dotacao Atual\"] = dados_regioes[\"Dotacao Atual\"].str.replace(\".\", \"\")\n",
        "dados_regioes[\"Dotacao Atual\"] = pd.to_numeric(dados_regioes[\"Dotacao Atual\"])\n",
        "\n",
        "dados_regioes.head()\n"
      ],
      "metadata": {
        "colab": {
          "base_uri": "https://localhost:8080/"
        },
        "id": "1plh333i_i3J",
        "outputId": "a12aa3e3-57a1-409f-9adb-dd21912d2828"
      },
      "execution_count": null,
      "outputs": [
        {
          "output_type": "stream",
          "name": "stderr",
          "text": [
            "<ipython-input-134-638b99671d07>:3: FutureWarning: The default value of regex will change from True to False in a future version. In addition, single character regular expressions will *not* be treated as literal strings when regex=True.\n",
            "  dados_regioes[\"Dotacao Atual\"] = dados_regioes[\"Dotacao Atual\"].str.replace(\".\", \"\")\n"
          ]
        },
        {
          "output_type": "execute_result",
          "data": {
            "text/plain": [
              "    Ano                  Localizador                Região  \\\n",
              "0  2012  0025 - No Estado da Paraíba  NE - Região Nordeste   \n",
              "1  2012  0025 - No Estado da Paraíba  NE - Região Nordeste   \n",
              "2  2012  0025 - No Estado da Paraíba  NE - Região Nordeste   \n",
              "3  2012  0025 - No Estado da Paraíba  NE - Região Nordeste   \n",
              "4  2012  0025 - No Estado da Paraíba  NE - Região Nordeste   \n",
              "\n",
              "                                               Fonte Projeto de Lei  \\\n",
              "0        100 - Recursos Primários de Livre Aplicação              0   \n",
              "1  156 - Contribuição do Servidor para o Plano de...              0   \n",
              "2  169 - Contribuição Patronal para o Plano de Se...              0   \n",
              "3  156 - Contribuição do Servidor para o Plano de...     21.584.508   \n",
              "4  169 - Contribuição Patronal para o Plano de Se...     38.666.570   \n",
              "\n",
              "   Dotacao Inicial  Dotacao Atual  Pago  \n",
              "0          7686431       14586431     0  \n",
              "1         22956997       22956997     0  \n",
              "2         38666570       38666570     0  \n",
              "3                0              0     0  \n",
              "4                0              0     0  "
            ],
            "text/html": [
              "\n",
              "  <div id=\"df-96cf0e5a-24e2-49e7-8cd5-23c7f7fc83ec\" class=\"colab-df-container\">\n",
              "    <div>\n",
              "<style scoped>\n",
              "    .dataframe tbody tr th:only-of-type {\n",
              "        vertical-align: middle;\n",
              "    }\n",
              "\n",
              "    .dataframe tbody tr th {\n",
              "        vertical-align: top;\n",
              "    }\n",
              "\n",
              "    .dataframe thead th {\n",
              "        text-align: right;\n",
              "    }\n",
              "</style>\n",
              "<table border=\"1\" class=\"dataframe\">\n",
              "  <thead>\n",
              "    <tr style=\"text-align: right;\">\n",
              "      <th></th>\n",
              "      <th>Ano</th>\n",
              "      <th>Localizador</th>\n",
              "      <th>Região</th>\n",
              "      <th>Fonte</th>\n",
              "      <th>Projeto de Lei</th>\n",
              "      <th>Dotacao Inicial</th>\n",
              "      <th>Dotacao Atual</th>\n",
              "      <th>Pago</th>\n",
              "    </tr>\n",
              "  </thead>\n",
              "  <tbody>\n",
              "    <tr>\n",
              "      <th>0</th>\n",
              "      <td>2012</td>\n",
              "      <td>0025 - No Estado da Paraíba</td>\n",
              "      <td>NE - Região Nordeste</td>\n",
              "      <td>100 - Recursos Primários de Livre Aplicação</td>\n",
              "      <td>0</td>\n",
              "      <td>7686431</td>\n",
              "      <td>14586431</td>\n",
              "      <td>0</td>\n",
              "    </tr>\n",
              "    <tr>\n",
              "      <th>1</th>\n",
              "      <td>2012</td>\n",
              "      <td>0025 - No Estado da Paraíba</td>\n",
              "      <td>NE - Região Nordeste</td>\n",
              "      <td>156 - Contribuição do Servidor para o Plano de...</td>\n",
              "      <td>0</td>\n",
              "      <td>22956997</td>\n",
              "      <td>22956997</td>\n",
              "      <td>0</td>\n",
              "    </tr>\n",
              "    <tr>\n",
              "      <th>2</th>\n",
              "      <td>2012</td>\n",
              "      <td>0025 - No Estado da Paraíba</td>\n",
              "      <td>NE - Região Nordeste</td>\n",
              "      <td>169 - Contribuição Patronal para o Plano de Se...</td>\n",
              "      <td>0</td>\n",
              "      <td>38666570</td>\n",
              "      <td>38666570</td>\n",
              "      <td>0</td>\n",
              "    </tr>\n",
              "    <tr>\n",
              "      <th>3</th>\n",
              "      <td>2012</td>\n",
              "      <td>0025 - No Estado da Paraíba</td>\n",
              "      <td>NE - Região Nordeste</td>\n",
              "      <td>156 - Contribuição do Servidor para o Plano de...</td>\n",
              "      <td>21.584.508</td>\n",
              "      <td>0</td>\n",
              "      <td>0</td>\n",
              "      <td>0</td>\n",
              "    </tr>\n",
              "    <tr>\n",
              "      <th>4</th>\n",
              "      <td>2012</td>\n",
              "      <td>0025 - No Estado da Paraíba</td>\n",
              "      <td>NE - Região Nordeste</td>\n",
              "      <td>169 - Contribuição Patronal para o Plano de Se...</td>\n",
              "      <td>38.666.570</td>\n",
              "      <td>0</td>\n",
              "      <td>0</td>\n",
              "      <td>0</td>\n",
              "    </tr>\n",
              "  </tbody>\n",
              "</table>\n",
              "</div>\n",
              "    <div class=\"colab-df-buttons\">\n",
              "\n",
              "  <div class=\"colab-df-container\">\n",
              "    <button class=\"colab-df-convert\" onclick=\"convertToInteractive('df-96cf0e5a-24e2-49e7-8cd5-23c7f7fc83ec')\"\n",
              "            title=\"Convert this dataframe to an interactive table.\"\n",
              "            style=\"display:none;\">\n",
              "\n",
              "  <svg xmlns=\"http://www.w3.org/2000/svg\" height=\"24px\" viewBox=\"0 -960 960 960\">\n",
              "    <path d=\"M120-120v-720h720v720H120Zm60-500h600v-160H180v160Zm220 220h160v-160H400v160Zm0 220h160v-160H400v160ZM180-400h160v-160H180v160Zm440 0h160v-160H620v160ZM180-180h160v-160H180v160Zm440 0h160v-160H620v160Z\"/>\n",
              "  </svg>\n",
              "    </button>\n",
              "\n",
              "  <style>\n",
              "    .colab-df-container {\n",
              "      display:flex;\n",
              "      gap: 12px;\n",
              "    }\n",
              "\n",
              "    .colab-df-convert {\n",
              "      background-color: #E8F0FE;\n",
              "      border: none;\n",
              "      border-radius: 50%;\n",
              "      cursor: pointer;\n",
              "      display: none;\n",
              "      fill: #1967D2;\n",
              "      height: 32px;\n",
              "      padding: 0 0 0 0;\n",
              "      width: 32px;\n",
              "    }\n",
              "\n",
              "    .colab-df-convert:hover {\n",
              "      background-color: #E2EBFA;\n",
              "      box-shadow: 0px 1px 2px rgba(60, 64, 67, 0.3), 0px 1px 3px 1px rgba(60, 64, 67, 0.15);\n",
              "      fill: #174EA6;\n",
              "    }\n",
              "\n",
              "    .colab-df-buttons div {\n",
              "      margin-bottom: 4px;\n",
              "    }\n",
              "\n",
              "    [theme=dark] .colab-df-convert {\n",
              "      background-color: #3B4455;\n",
              "      fill: #D2E3FC;\n",
              "    }\n",
              "\n",
              "    [theme=dark] .colab-df-convert:hover {\n",
              "      background-color: #434B5C;\n",
              "      box-shadow: 0px 1px 3px 1px rgba(0, 0, 0, 0.15);\n",
              "      filter: drop-shadow(0px 1px 2px rgba(0, 0, 0, 0.3));\n",
              "      fill: #FFFFFF;\n",
              "    }\n",
              "  </style>\n",
              "\n",
              "    <script>\n",
              "      const buttonEl =\n",
              "        document.querySelector('#df-96cf0e5a-24e2-49e7-8cd5-23c7f7fc83ec button.colab-df-convert');\n",
              "      buttonEl.style.display =\n",
              "        google.colab.kernel.accessAllowed ? 'block' : 'none';\n",
              "\n",
              "      async function convertToInteractive(key) {\n",
              "        const element = document.querySelector('#df-96cf0e5a-24e2-49e7-8cd5-23c7f7fc83ec');\n",
              "        const dataTable =\n",
              "          await google.colab.kernel.invokeFunction('convertToInteractive',\n",
              "                                                    [key], {});\n",
              "        if (!dataTable) return;\n",
              "\n",
              "        const docLinkHtml = 'Like what you see? Visit the ' +\n",
              "          '<a target=\"_blank\" href=https://colab.research.google.com/notebooks/data_table.ipynb>data table notebook</a>'\n",
              "          + ' to learn more about interactive tables.';\n",
              "        element.innerHTML = '';\n",
              "        dataTable['output_type'] = 'display_data';\n",
              "        await google.colab.output.renderOutput(dataTable, element);\n",
              "        const docLink = document.createElement('div');\n",
              "        docLink.innerHTML = docLinkHtml;\n",
              "        element.appendChild(docLink);\n",
              "      }\n",
              "    </script>\n",
              "  </div>\n",
              "\n",
              "\n",
              "<div id=\"df-0869ad1b-1239-4d10-b233-a742afac76a7\">\n",
              "  <button class=\"colab-df-quickchart\" onclick=\"quickchart('df-0869ad1b-1239-4d10-b233-a742afac76a7')\"\n",
              "            title=\"Suggest charts.\"\n",
              "            style=\"display:none;\">\n",
              "\n",
              "<svg xmlns=\"http://www.w3.org/2000/svg\" height=\"24px\"viewBox=\"0 0 24 24\"\n",
              "     width=\"24px\">\n",
              "    <g>\n",
              "        <path d=\"M19 3H5c-1.1 0-2 .9-2 2v14c0 1.1.9 2 2 2h14c1.1 0 2-.9 2-2V5c0-1.1-.9-2-2-2zM9 17H7v-7h2v7zm4 0h-2V7h2v10zm4 0h-2v-4h2v4z\"/>\n",
              "    </g>\n",
              "</svg>\n",
              "  </button>\n",
              "\n",
              "<style>\n",
              "  .colab-df-quickchart {\n",
              "      --bg-color: #E8F0FE;\n",
              "      --fill-color: #1967D2;\n",
              "      --hover-bg-color: #E2EBFA;\n",
              "      --hover-fill-color: #174EA6;\n",
              "      --disabled-fill-color: #AAA;\n",
              "      --disabled-bg-color: #DDD;\n",
              "  }\n",
              "\n",
              "  [theme=dark] .colab-df-quickchart {\n",
              "      --bg-color: #3B4455;\n",
              "      --fill-color: #D2E3FC;\n",
              "      --hover-bg-color: #434B5C;\n",
              "      --hover-fill-color: #FFFFFF;\n",
              "      --disabled-bg-color: #3B4455;\n",
              "      --disabled-fill-color: #666;\n",
              "  }\n",
              "\n",
              "  .colab-df-quickchart {\n",
              "    background-color: var(--bg-color);\n",
              "    border: none;\n",
              "    border-radius: 50%;\n",
              "    cursor: pointer;\n",
              "    display: none;\n",
              "    fill: var(--fill-color);\n",
              "    height: 32px;\n",
              "    padding: 0;\n",
              "    width: 32px;\n",
              "  }\n",
              "\n",
              "  .colab-df-quickchart:hover {\n",
              "    background-color: var(--hover-bg-color);\n",
              "    box-shadow: 0 1px 2px rgba(60, 64, 67, 0.3), 0 1px 3px 1px rgba(60, 64, 67, 0.15);\n",
              "    fill: var(--button-hover-fill-color);\n",
              "  }\n",
              "\n",
              "  .colab-df-quickchart-complete:disabled,\n",
              "  .colab-df-quickchart-complete:disabled:hover {\n",
              "    background-color: var(--disabled-bg-color);\n",
              "    fill: var(--disabled-fill-color);\n",
              "    box-shadow: none;\n",
              "  }\n",
              "\n",
              "  .colab-df-spinner {\n",
              "    border: 2px solid var(--fill-color);\n",
              "    border-color: transparent;\n",
              "    border-bottom-color: var(--fill-color);\n",
              "    animation:\n",
              "      spin 1s steps(1) infinite;\n",
              "  }\n",
              "\n",
              "  @keyframes spin {\n",
              "    0% {\n",
              "      border-color: transparent;\n",
              "      border-bottom-color: var(--fill-color);\n",
              "      border-left-color: var(--fill-color);\n",
              "    }\n",
              "    20% {\n",
              "      border-color: transparent;\n",
              "      border-left-color: var(--fill-color);\n",
              "      border-top-color: var(--fill-color);\n",
              "    }\n",
              "    30% {\n",
              "      border-color: transparent;\n",
              "      border-left-color: var(--fill-color);\n",
              "      border-top-color: var(--fill-color);\n",
              "      border-right-color: var(--fill-color);\n",
              "    }\n",
              "    40% {\n",
              "      border-color: transparent;\n",
              "      border-right-color: var(--fill-color);\n",
              "      border-top-color: var(--fill-color);\n",
              "    }\n",
              "    60% {\n",
              "      border-color: transparent;\n",
              "      border-right-color: var(--fill-color);\n",
              "    }\n",
              "    80% {\n",
              "      border-color: transparent;\n",
              "      border-right-color: var(--fill-color);\n",
              "      border-bottom-color: var(--fill-color);\n",
              "    }\n",
              "    90% {\n",
              "      border-color: transparent;\n",
              "      border-bottom-color: var(--fill-color);\n",
              "    }\n",
              "  }\n",
              "</style>\n",
              "\n",
              "  <script>\n",
              "    async function quickchart(key) {\n",
              "      const quickchartButtonEl =\n",
              "        document.querySelector('#' + key + ' button');\n",
              "      quickchartButtonEl.disabled = true;  // To prevent multiple clicks.\n",
              "      quickchartButtonEl.classList.add('colab-df-spinner');\n",
              "      try {\n",
              "        const charts = await google.colab.kernel.invokeFunction(\n",
              "            'suggestCharts', [key], {});\n",
              "      } catch (error) {\n",
              "        console.error('Error during call to suggestCharts:', error);\n",
              "      }\n",
              "      quickchartButtonEl.classList.remove('colab-df-spinner');\n",
              "      quickchartButtonEl.classList.add('colab-df-quickchart-complete');\n",
              "    }\n",
              "    (() => {\n",
              "      let quickchartButtonEl =\n",
              "        document.querySelector('#df-0869ad1b-1239-4d10-b233-a742afac76a7 button');\n",
              "      quickchartButtonEl.style.display =\n",
              "        google.colab.kernel.accessAllowed ? 'block' : 'none';\n",
              "    })();\n",
              "  </script>\n",
              "</div>\n",
              "    </div>\n",
              "  </div>\n"
            ]
          },
          "metadata": {},
          "execution_count": 134
        }
      ]
    },
    {
      "cell_type": "markdown",
      "source": [
        "## 2° etapa\n",
        "Análise dos valores unicos de Região e Localizador\n"
      ],
      "metadata": {
        "id": "gZs8ohppiEZm"
      }
    },
    {
      "cell_type": "code",
      "source": [
        "# vericando os valores unicos da coluna Região.\n",
        "\n",
        "dados_regioes[\"Região\"].unique()"
      ],
      "metadata": {
        "id": "Zl6eTaJ6zI0Q",
        "outputId": "6a9b8319-9c79-4264-c19a-dc22a93d8b0e",
        "colab": {
          "base_uri": "https://localhost:8080/"
        }
      },
      "execution_count": null,
      "outputs": [
        {
          "output_type": "execute_result",
          "data": {
            "text/plain": [
              "array(['NE - Região Nordeste', 'NA - Nacional', 'EX - Exterior'],\n",
              "      dtype=object)"
            ]
          },
          "metadata": {},
          "execution_count": 135
        }
      ]
    },
    {
      "cell_type": "code",
      "source": [
        "# vericando os valores unicos da coluna Localizador.\n",
        "\n",
        "dados_regioes[\"Localizador\"].unique()"
      ],
      "metadata": {
        "colab": {
          "base_uri": "https://localhost:8080/"
        },
        "id": "KxrUIlJZ5k1n",
        "outputId": "c12c14e0-b950-4a53-b63c-59ce0b7f7deb"
      },
      "execution_count": null,
      "outputs": [
        {
          "output_type": "execute_result",
          "data": {
            "text/plain": [
              "array(['0025 - No Estado da Paraíba',\n",
              "       '0101 - Nacional (Crédito Extraordinário)',\n",
              "       '0168 - Campus Cajazeiras - Cajazeiras - PB',\n",
              "       '0170 - Campina Grande - PB',\n",
              "       '0110 - Campus de Patos - No Estado da Paraíba',\n",
              "       '0138 - Equipamentos para o Centro de Humanidades da UFCG - Campina Grande - PB',\n",
              "       '0174 - Aquisição de Estantes/Arquivos deslizantes para o Centro de Humanidades - Campina Grande - PB',\n",
              "       '0176 - Ampliação e Consolidação da UFCG - Campina Grande - PB',\n",
              "       '0001 - Nacional', '7004 - Campus Sumé - No Estado da Paraíba',\n",
              "       '7022 - Campus Cajazeiras - No Estado da Paraíba',\n",
              "       '1392 - No Município de Campina Grande - PB',\n",
              "       '1551 - No Município de Sousa - PB',\n",
              "       '7004 - Campus Patos - No Estado da Paraíba',\n",
              "       '7000 - Hospital Universitário Júlio Bandeira de Melo - HUJB - UFCG/Campus Cajazeiras - No Estado da Paraíba',\n",
              "       '7010 - Hospital Universitário Júlio Maria Bandeira de Mello - No Município de Cajazeiras - PB',\n",
              "       '7008 - Implantação do Curso de Engenharia Civil, No Campus de Pombal - No Estado da Paraíba',\n",
              "       '7038 - Construção de Centro de Extensão Cultural da UFCG - No Estado da Paraíba',\n",
              "       '7080 - Campus Cajazeiras - No Estado da Paraíba',\n",
              "       '7084 - Campus do Centro de Ciências Jurídicas - CCJS - No Município de Sousa - PB',\n",
              "       '7116 - Hospital Universitário Júlio Maria Bandeira de Mello - No Município de Cajazeiras - PB',\n",
              "       '7214 - Campus Pombal - No Estado da Paraíba',\n",
              "       '0002 - No Exterior', '1388 - No Município de Cajazeiras - PB',\n",
              "       '1491 - No Município de Pombal - PB',\n",
              "       '7027 - Campus Cajazeiras - No Município de Cajazeiras - PB'],\n",
              "      dtype=object)"
            ]
          },
          "metadata": {},
          "execution_count": 136
        }
      ]
    },
    {
      "cell_type": "markdown",
      "source": [
        "## 3° etapa\n",
        "\n",
        "\n",
        "Identificar os localizadores com as maiores e menores dotações atuais:\n"
      ],
      "metadata": {
        "id": "RAzd4okhieGD"
      }
    },
    {
      "cell_type": "code",
      "source": [
        "# Localizador com a maior dotacao atual\n",
        "\n",
        "localizador_maior_dotacao = dados_regioes.loc[dados_regioes['Dotacao Atual'].idxmax()]['Localizador']\n",
        "localizador_maior_dotacao_valor = dados_regioes.loc[dados_regioes['Dotacao Atual'].idxmax()]['Dotacao Atual']\n",
        "\n",
        "# Localizador com a menor dotacao atual\n",
        "localizador_menor_dotacao = dados_regioes.loc[dados_regioes['Dotacao Atual'].idxmin()]['Localizador']\n",
        "localizador_menor_dotacao_valor = dados_regioes.loc[dados_regioes['Dotacao Atual'].idxmin()]['Dotacao Atual']\n",
        "\n",
        "print(f\"Localizador com a maior dotacao atual: {localizador_maior_dotacao}. Valor: {localizador_maior_dotacao_valor}\")\n",
        "print(f\"Localizador com a menor dotacao atual: {localizador_menor_dotacao}. Valor: {localizador_menor_dotacao_valor}\")\n"
      ],
      "metadata": {
        "colab": {
          "base_uri": "https://localhost:8080/"
        },
        "id": "tPyX_T1EERZQ",
        "outputId": "b9a773f6-e9cb-4e4f-f9da-f8eb48ca5d74"
      },
      "execution_count": null,
      "outputs": [
        {
          "output_type": "stream",
          "name": "stdout",
          "text": [
            "Localizador com a maior dotacao atual: 0025 - No Estado da Paraíba. Valor: 389668265\n",
            "Localizador com a menor dotacao atual: 0025 - No Estado da Paraíba. Valor: 0\n"
          ]
        }
      ]
    },
    {
      "cell_type": "code",
      "source": [
        "# Ordenanar pela coluna Dotação Atual\n",
        "\n",
        "df_ordenado = dados_regioes.sort_values(by='Dotacao Atual', ascending=False)\n",
        "df_ordenado = df_ordenado.reset_index(drop=True)"
      ],
      "metadata": {
        "id": "owx0muEtqDjv"
      },
      "execution_count": null,
      "outputs": []
    },
    {
      "cell_type": "code",
      "source": [
        "# criação do gráfico dos resultados.\n",
        "\n",
        "dados_regioes[\"Codigo\"] = dados_regioes['Localizador'].str.extract(r'(\\d+)')\n",
        "plt.figure(figsize=(15, 6))\n",
        "plt.scatter(dados_regioes['Codigo'], dados_regioes['Dotacao Atual'], c='red')\n",
        "plt.xlabel('Localizador')\n",
        "plt.ylabel('Dotação Atual')\n",
        "plt.title('Gráfico 1: Gastos por Localizador.')\n",
        "plt.show()\n"
      ],
      "metadata": {
        "colab": {
          "base_uri": "https://localhost:8080/"
        },
        "id": "S9PifYX-yNt6",
        "outputId": "bd4954cb-b415-48ea-eced-02f8723e4e07"
      },
      "execution_count": null,
      "outputs": [
        {
          "output_type": "display_data",
          "data": {
            "text/plain": [
              "<Figure size 1500x600 with 1 Axes>"
            ],
            "image/png": "[encoded data removed]"
          },
          "metadata": {}
        }
      ]
    },
    {
      "cell_type": "markdown",
      "source": [
        "### Resultado Atingido\n",
        "\n",
        "🔹 Depois da filtração de dados, foi possível obter os valores dos localizadores que possuem maior e menor valor.\n",
        "\n",
        "🔹 Tendo em mente que há diversas linhas com dotação 0 a menor dotação pode variar entre os Localizadores.\n",
        "\n",
        "🔹 Foi notado uma incidência desproporcional de um localizador em relação aos demais.\n",
        "\n",
        "### dados obtidos:\n",
        "\n",
        "\n",
        "> **Localizador com maior dotação:** EX - Exterior.\n",
        "\n",
        "> **Localizador com maior dotação valor:** 389.668.265.\n",
        "\n",
        "> **Localizador com menor dotação:** EX - Exterior.\n",
        "\n",
        "> **Localizador com menor dotação valor:** 0.\n"
      ],
      "metadata": {
        "id": "_E25Z_YjjF0d"
      }
    },
    {
      "cell_type": "markdown",
      "source": [
        "## 4° etapa\n",
        "\n",
        "\n",
        "Identificar as regiões com as maiores e menores dotação atuais:"
      ],
      "metadata": {
        "id": "WSEAv9GJTDF3"
      }
    },
    {
      "cell_type": "code",
      "source": [
        "# Região com a maior dotacao atual\n",
        "regiao_maior_dotacao = dados_regioes.loc[dados_regioes.groupby('Região')['Dotacao Atual'].idxmax()]['Região']\n",
        "regiao_maior_dotacao_valor = dados_regioes.loc[dados_regioes['Dotacao Atual'].idxmax()]['Dotacao Atual']\n",
        "\n",
        "# Região com a menor dotacao atual\n",
        "regiao_menor_dotacao = dados_regioes.loc[dados_regioes.groupby('Região')['Dotacao Atual'].idxmin()]['Região']\n",
        "regiao_menor_dotacao_valor = dados_regioes.loc[dados_regioes['Dotacao Atual'].idxmin()]['Dotacao Atual']\n",
        "\n",
        "\n",
        "print(f\"Região com a maior dotacao atual: {regiao_maior_dotacao.values[0]}. Valor: {regiao_maior_dotacao_valor}\")\n",
        "print(f\"Região com a menor dotacao atual: {regiao_menor_dotacao.values[0]}. Valor: {regiao_menor_dotacao_valor}\")\n"
      ],
      "metadata": {
        "colab": {
          "base_uri": "https://localhost:8080/"
        },
        "id": "xBliwO_wTAGV",
        "outputId": "8ef4a872-f111-41d2-a36f-ebbc364977f6"
      },
      "execution_count": null,
      "outputs": [
        {
          "output_type": "stream",
          "name": "stdout",
          "text": [
            "Região com a maior dotacao atual: EX - Exterior. Valor: 389668265\n",
            "Região com a menor dotacao atual: EX - Exterior. Valor: 0\n"
          ]
        }
      ]
    },
    {
      "cell_type": "code",
      "source": [
        "# criação do gráfico dos resultados.\n",
        "\n",
        "dados_regioes[\"Codigo\"] = dados_regioes['Região']\n",
        "plt.figure(figsize=(10, 6))\n",
        "plt.barh(dados_regioes['Codigo'], dados_regioes['Dotacao Atual'], color='purple')\n",
        "plt.xlabel('Região')\n",
        "plt.ylabel('Dotação Atual')\n",
        "plt.title('Gráfico 2: Gastos por Região.')\n",
        "plt.show()\n"
      ],
      "metadata": {
        "colab": {
          "base_uri": "https://localhost:8080/"
        },
        "id": "JQeeLuKqv3-o",
        "outputId": "d48846f3-af2b-468a-9234-4cac80ad50aa"
      },
      "execution_count": null,
      "outputs": [
        {
          "output_type": "display_data",
          "data": {
            "text/plain": [
              "<Figure size 1000x600 with 1 Axes>"
            ],
            "image/png": "[encoded data removed]"
          },
          "metadata": {}
        }
      ]
    },
    {
      "cell_type": "markdown",
      "source": [
        "### Resultado Atingido\n",
        "\n",
        "🔹 Depois da filtração de dados, foi possível obter os valores das regiões que possuem maior e menor valor.\n",
        "\n",
        "🔹 Tendo em mente que há diversas linhas com dotação 0 a menor dotação pode variar entre as regiões.\n",
        "\n",
        "🔹 Foi notado uma incidência desproporcional de um região em relação aos demais.\n",
        "\n",
        "### dados obtidos:\n",
        "\n",
        "\n",
        "> **Região com maior dotação:** EX - Exterior.\n",
        "\n",
        "> **Região com maior dotação valor:** 389.668.265.\n",
        "\n",
        "> **Região com menor dotação:** EX - Exterior.\n",
        "\n",
        "> **Região com menor dotação valor:** 0.\n"
      ],
      "metadata": {
        "id": "-Nt2D6zWvGNL"
      }
    },
    {
      "cell_type": "markdown",
      "source": [
        "## 5° etapa\n",
        "\n",
        "Verificar se existem localizadores ou regiões que precisam de uma revisão orçamentária com base nas diferenças entre a dotacão_inicial e a dotacão_atua"
      ],
      "metadata": {
        "id": "kdEb9cmNuinZ"
      }
    },
    {
      "cell_type": "code",
      "source": [
        "# Calcular a diferença entre a dotacão_inicial e a dotacão_atual além de indentificar as diferenças orçamentárias por localizade e região\n",
        "dados_regioes['diferenca_orcamentaria'] = dados_regioes['Dotacao Atual'] - dados_regioes['Dotacao Inicial']\n",
        "\n",
        "localizadores_revisao_negativa = dados_regioes.loc[dados_regioes['diferenca_orcamentaria'] < 0]['Localizador'].unique()\n",
        "\n",
        "regioes_revisao_negativa = dados_regioes.loc[dados_regioes['diferenca_orcamentaria'] < 0]['Região'].unique()\n",
        "\n",
        "print(\"Localizadores que podem precisar de revisão orçamentária (diferença negativa):\")\n",
        "print(localizadores_revisao_negativa)\n",
        "\n",
        "print(\"\\nRegiões que podem precisar de revisão orçamentária (diferença negativa):\")\n",
        "print(regioes_revisao_negativa)\n"
      ],
      "metadata": {
        "colab": {
          "base_uri": "https://localhost:8080/"
        },
        "id": "3JVYZpdSUyjK",
        "outputId": "be5299cb-780a-40e7-8057-0d3efe990a7c"
      },
      "execution_count": null,
      "outputs": [
        {
          "output_type": "stream",
          "name": "stdout",
          "text": [
            "Localizadores que podem precisar de revisão orçamentária (diferença negativa):\n",
            "['0025 - No Estado da Paraíba' '0001 - Nacional'\n",
            " '1392 - No Município de Campina Grande - PB']\n",
            "\n",
            "Regiões que podem precisar de revisão orçamentária (diferença negativa):\n",
            "['NE - Região Nordeste' 'NA - Nacional']\n"
          ]
        }
      ]
    },
    {
      "cell_type": "markdown",
      "source": [
        "### Resultado Atingido\n",
        "\n",
        "🔹 Foi notado casos onde há uma diferença negativa da subtração da Dotação Atual - Dotação Inicial.\n",
        "\n",
        "### dados obtidos:\n",
        "\n",
        "\n",
        "> **Localizadores que podem precisar de revisão:** 0025 - No Estado da Paraíba,\n",
        "0001 - Nacional,\n",
        "1392 - No Município de Campina Grande - PB\n",
        "\n",
        "\n",
        "> **Regiões que podem precisar de revisão:** NE - Região Nordeste, NA - Nacional.\n"
      ],
      "metadata": {
        "id": "fI1-m8nzqYY3"
      }
    },
    {
      "cell_type": "markdown",
      "source": [
        "## Objetivo atingido:\n",
        "Com os dados gerados pelos gráfico 1 e 2, podemos perceber que na distribuição dos dados um grande número de Localizadores se concentra no 0025 - No Estado da Paraíba, e quando se trata das Regiões há uma concentração na NE -Região Nordeste.\n",
        "\n",
        "## Conclusão:\n",
        "Com esta finalização, podemos observar que a análise dos dados revelou que a distribuição de recursos financeiros entre localizadores e regiões não é uniforme. O Localizador \"EX - Exterior\" se destacou tanto com as maiores quanto as menores dotações, apontando para uma variação significativa nos registros.\n",
        "\n",
        "Também identificamos casos de diferenças orçamentárias negativas em localizadores e regiões, sugerindo a necessidade de revisão e ajustes. Além disso, notamos uma concentração de dados em \"0025 - No Estado da Paraíba\" e \"NE - Região Nordeste,\" indicando sua relevância no contexto orçamentário.\n",
        "\n",
        "Resumidamente, esta análise oferece informações essenciais para uma distribuição mais equitativa de recursos públicos, destacando áreas que requerem uma atenção cuidadosa para garantir um uso eficaz e justo dos recursos."
      ],
      "metadata": {
        "id": "sfeRiGiYvLI_"
      }
    }
  ]
}