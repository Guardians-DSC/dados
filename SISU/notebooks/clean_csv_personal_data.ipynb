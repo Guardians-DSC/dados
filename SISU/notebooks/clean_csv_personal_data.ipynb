{
 "cells": [
  {
   "cell_type": "code",
   "execution_count": 1,
   "metadata": {},
   "outputs": [],
   "source": [
    "import pandas as pd"
   ]
  },
  {
   "cell_type": "code",
   "execution_count": 32,
   "metadata": {},
   "outputs": [],
   "source": [
    "csvs_paths = [\n",
    "\"../sisu_2018/sisu_pb_2018_1.csv\",\"../sisu_2018/sisu_pb_2018_2.csv\",\"../sisu_2018/sisu_ufcg_2018_1.csv\",\"../sisu_2018/sisu_ufcg_2018_2.csv\",\n",
    "\"../sisu_2019/sisu_pb_2019_1.csv\",\"../sisu_2019/sisu_pb_2019_2.csv\",\"../sisu_2019/sisu_ufcg_2019_1.csv\",\"../sisu_2019/sisu_ufcg_2019_2.csv\",\n",
    "\"../sisu_2020/sisu_pb_2020_1.csv\",\"../sisu_2020/sisu_pb_2020_2.csv\",\"../sisu_2020/sisu_ufcg_2020_1.csv\",\"../sisu_2020/sisu_ufcg_2020_2.csv\",\n",
    "\"../sisu_2021/sisu_pb_2021.csv\",\"../sisu_2021/sisu_ufcg_2021.csv\",\"../sisu_2022/sisu_pb_2022.csv\",\"../sisu_2022/sisu_ufcg_2022.csv\"]"
   ]
  },
  {
   "cell_type": "code",
   "execution_count": 33,
   "metadata": {},
   "outputs": [],
   "source": [
    "def clean_personal_data(csv_path,path_to_save_csv):\n",
    "    df = pd.read_csv(csv_path)\n",
    "    df.drop(columns=['cpf','inscricao_enem','inscrito'],inplace=True)\n",
    "    df.to_csv(path_to_save_csv,index=False)"
   ]
  },
  {
   "cell_type": "code",
   "execution_count": null,
   "metadata": {},
   "outputs": [],
   "source": [
    "for path in csvs_paths:\n",
    "    clean_personal_data(path,path)"
   ]
  }
 ],
 "metadata": {
  "kernelspec": {
   "display_name": "Python 3",
   "language": "python",
   "name": "python3"
  },
  "language_info": {
   "codemirror_mode": {
    "name": "ipython",
    "version": 3
   },
   "file_extension": ".py",
   "mimetype": "text/x-python",
   "name": "python",
   "nbconvert_exporter": "python",
   "pygments_lexer": "ipython3",
   "version": "3.9.13"
  },
  "orig_nbformat": 4
 },
 "nbformat": 4,
 "nbformat_minor": 2
}
