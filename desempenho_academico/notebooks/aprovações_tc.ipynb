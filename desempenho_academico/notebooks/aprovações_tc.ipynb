{
  "cells": [
    {
      "cell_type": "code",
      "execution_count": null,
      "metadata": {
        "id": "k7Y0dKAWj6i8"
      },
      "outputs": [],
      "source": [
        "import pandas as pd\n",
        "import seaborn as sns\n",
        "linknotas = 'https://raw.githubusercontent.com/elasComputacao/raio-x-dados/main/data/dados-brutos/historico_alunos_raiox.csv'\n",
        "dados = pd.read_csv(linknotas)\n",
        "df = pd.DataFrame(dados)\n",
        "pd.set_option('display.max_columns', None)\n",
        "disciplina_desejada = 'TEORIA DA COMPUTAÇÃO'\n",
        "result = df.loc[df['nome_disciplina'] == disciplina_desejada]\n",
        "result"
      ]
    },
    {
      "cell_type": "markdown",
      "source": [
        "Eu sumo, foi encontrado uma grande quantidade de aprovados(aproximadamente 80%), algums períodos tem uma base de dados um pouco pequena, mas dá pra ter uma base geral das aprovações por perido na nova grade(2012.2 até 2019.1).\n",
        "No mais, para comentarios de algum periodo especifico, tem um comentário nele com algums entendimentos gerais."
      ],
      "metadata": {
        "id": "y4olIbhX3_Qo"
      }
    },
    {
      "cell_type": "code",
      "execution_count": 2,
      "metadata": {
        "id": "seyyB00OsQ2i",
        "colab": {
          "base_uri": "https://localhost:8080/",
          "height": 680
        },
        "outputId": "2d2c6fd3-ef17-4157-9431-ba8296a0fc5f"
      },
      "outputs": [
        {
          "output_type": "stream",
          "name": "stdout",
          "text": [
            "Aprovado               1914\n",
            "Reprovado               394\n",
            "Reprovado por Falta     192\n",
            "Trancado                 68\n",
            "Em Curso                 65\n",
            "Cancelado                 9\n",
            "Name: situacao, dtype: int64\n"
          ]
        },
        {
          "output_type": "display_data",
          "data": {
            "text/plain": [
              "<Figure size 640x480 with 1 Axes>"
            ],
            "image/png": "[encoded data removed]"
          },
          "metadata": {}
        }
      ],
      "source": [
        "result['situacao'].value_counts().plot.bar()\n",
        "print (result['situacao'].value_counts())"
      ]
    },
    {
      "cell_type": "markdown",
      "source": [
        "As informações indicam que, em média, 8 a cada 10 estudantes que realmente pagam a cadeira são aprovados, mostrando que tem um alto indice de aprovação em relação a outras cadeiras do curso."
      ],
      "metadata": {
        "id": "p3ZJdjPB4nEt"
      }
    },
    {
      "cell_type": "code",
      "source": [
        "teste = result.query(\"codigo_curriculo == 2017\")\n",
        "teste.groupby('codigo_curriculo')['situacao'].value_counts().reset_index(name='contagem')\n",
        "teste.groupby('periodo_ingresso')['situacao'].value_counts().reset_index(name='contagem')"
      ],
      "metadata": {
        "id": "7_en0bgpDsrC",
        "colab": {
          "base_uri": "https://localhost:8080/",
          "height": 1000
        },
        "outputId": "a291ebf4-cab1-4816-f33b-ccc0086fa26c"
      },
      "execution_count": 3,
      "outputs": [
        {
          "output_type": "execute_result",
          "data": {
            "text/plain": [
              "    periodo_ingresso             situacao  contagem\n",
              "0             2012.2            Reprovado         3\n",
              "1             2012.2             Aprovado         2\n",
              "2             2012.2  Reprovado por Falta         1\n",
              "3             2013.1             Aprovado         3\n",
              "4             2013.1            Reprovado         1\n",
              "5             2013.2            Reprovado         4\n",
              "6             2013.2             Aprovado         3\n",
              "7             2013.2             Trancado         3\n",
              "8             2013.2  Reprovado por Falta         2\n",
              "9             2013.2             Em Curso         1\n",
              "10            2014.1             Aprovado        10\n",
              "11            2014.2             Aprovado        15\n",
              "12            2014.2            Reprovado         5\n",
              "13            2014.2            Cancelado         1\n",
              "14            2014.2  Reprovado por Falta         1\n",
              "15            2015.1             Aprovado        54\n",
              "16            2015.1            Reprovado         3\n",
              "17            2015.2             Aprovado        50\n",
              "18            2015.2            Reprovado         8\n",
              "19            2015.2  Reprovado por Falta         3\n",
              "20            2015.2            Cancelado         1\n",
              "21            2016.1             Aprovado        50\n",
              "22            2016.1            Reprovado        10\n",
              "23            2016.1  Reprovado por Falta         4\n",
              "24            2016.1             Trancado         1\n",
              "25            2016.2             Aprovado        57\n",
              "26            2016.2            Reprovado        15\n",
              "27            2016.2             Trancado         4\n",
              "28            2016.2             Em Curso         3\n",
              "29            2016.2  Reprovado por Falta         2\n",
              "30            2017.1             Aprovado        47\n",
              "31            2017.1             Em Curso        11\n",
              "32            2017.1            Cancelado         1\n",
              "33            2017.1  Reprovado por Falta         1\n",
              "34            2017.2             Aprovado        31\n",
              "35            2017.2             Em Curso        20\n",
              "36            2017.2  Reprovado por Falta         2\n",
              "37            2017.2            Reprovado         1\n",
              "38            2017.2             Trancado         1\n",
              "39            2018.1             Em Curso        23\n",
              "40            2018.1             Aprovado         5\n",
              "41            2018.2             Em Curso         7\n",
              "42            2018.2             Aprovado         6\n",
              "43            2018.2  Reprovado por Falta         2\n",
              "44            2019.1             Aprovado         3\n",
              "45            2019.2             Aprovado         7"
            ],
            "text/html": [
              "\n",
              "  <div id=\"df-8fcfccf8-9af5-4b98-b405-36125d872c29\" class=\"colab-df-container\">\n",
              "    <div>\n",
              "<style scoped>\n",
              "    .dataframe tbody tr th:only-of-type {\n",
              "        vertical-align: middle;\n",
              "    }\n",
              "\n",
              "    .dataframe tbody tr th {\n",
              "        vertical-align: top;\n",
              "    }\n",
              "\n",
              "    .dataframe thead th {\n",
              "        text-align: right;\n",
              "    }\n",
              "</style>\n",
              "<table border=\"1\" class=\"dataframe\">\n",
              "  <thead>\n",
              "    <tr style=\"text-align: right;\">\n",
              "      <th></th>\n",
              "      <th>periodo_ingresso</th>\n",
              "      <th>situacao</th>\n",
              "      <th>contagem</th>\n",
              "    </tr>\n",
              "  </thead>\n",
              "  <tbody>\n",
              "    <tr>\n",
              "      <th>0</th>\n",
              "      <td>2012.2</td>\n",
              "      <td>Reprovado</td>\n",
              "      <td>3</td>\n",
              "    </tr>\n",
              "    <tr>\n",
              "      <th>1</th>\n",
              "      <td>2012.2</td>\n",
              "      <td>Aprovado</td>\n",
              "      <td>2</td>\n",
              "    </tr>\n",
              "    <tr>\n",
              "      <th>2</th>\n",
              "      <td>2012.2</td>\n",
              "      <td>Reprovado por Falta</td>\n",
              "      <td>1</td>\n",
              "    </tr>\n",
              "    <tr>\n",
              "      <th>3</th>\n",
              "      <td>2013.1</td>\n",
              "      <td>Aprovado</td>\n",
              "      <td>3</td>\n",
              "    </tr>\n",
              "    <tr>\n",
              "      <th>4</th>\n",
              "      <td>2013.1</td>\n",
              "      <td>Reprovado</td>\n",
              "      <td>1</td>\n",
              "    </tr>\n",
              "    <tr>\n",
              "      <th>5</th>\n",
              "      <td>2013.2</td>\n",
              "      <td>Reprovado</td>\n",
              "      <td>4</td>\n",
              "    </tr>\n",
              "    <tr>\n",
              "      <th>6</th>\n",
              "      <td>2013.2</td>\n",
              "      <td>Aprovado</td>\n",
              "      <td>3</td>\n",
              "    </tr>\n",
              "    <tr>\n",
              "      <th>7</th>\n",
              "      <td>2013.2</td>\n",
              "      <td>Trancado</td>\n",
              "      <td>3</td>\n",
              "    </tr>\n",
              "    <tr>\n",
              "      <th>8</th>\n",
              "      <td>2013.2</td>\n",
              "      <td>Reprovado por Falta</td>\n",
              "      <td>2</td>\n",
              "    </tr>\n",
              "    <tr>\n",
              "      <th>9</th>\n",
              "      <td>2013.2</td>\n",
              "      <td>Em Curso</td>\n",
              "      <td>1</td>\n",
              "    </tr>\n",
              "    <tr>\n",
              "      <th>10</th>\n",
              "      <td>2014.1</td>\n",
              "      <td>Aprovado</td>\n",
              "      <td>10</td>\n",
              "    </tr>\n",
              "    <tr>\n",
              "      <th>11</th>\n",
              "      <td>2014.2</td>\n",
              "      <td>Aprovado</td>\n",
              "      <td>15</td>\n",
              "    </tr>\n",
              "    <tr>\n",
              "      <th>12</th>\n",
              "      <td>2014.2</td>\n",
              "      <td>Reprovado</td>\n",
              "      <td>5</td>\n",
              "    </tr>\n",
              "    <tr>\n",
              "      <th>13</th>\n",
              "      <td>2014.2</td>\n",
              "      <td>Cancelado</td>\n",
              "      <td>1</td>\n",
              "    </tr>\n",
              "    <tr>\n",
              "      <th>14</th>\n",
              "      <td>2014.2</td>\n",
              "      <td>Reprovado por Falta</td>\n",
              "      <td>1</td>\n",
              "    </tr>\n",
              "    <tr>\n",
              "      <th>15</th>\n",
              "      <td>2015.1</td>\n",
              "      <td>Aprovado</td>\n",
              "      <td>54</td>\n",
              "    </tr>\n",
              "    <tr>\n",
              "      <th>16</th>\n",
              "      <td>2015.1</td>\n",
              "      <td>Reprovado</td>\n",
              "      <td>3</td>\n",
              "    </tr>\n",
              "    <tr>\n",
              "      <th>17</th>\n",
              "      <td>2015.2</td>\n",
              "      <td>Aprovado</td>\n",
              "      <td>50</td>\n",
              "    </tr>\n",
              "    <tr>\n",
              "      <th>18</th>\n",
              "      <td>2015.2</td>\n",
              "      <td>Reprovado</td>\n",
              "      <td>8</td>\n",
              "    </tr>\n",
              "    <tr>\n",
              "      <th>19</th>\n",
              "      <td>2015.2</td>\n",
              "      <td>Reprovado por Falta</td>\n",
              "      <td>3</td>\n",
              "    </tr>\n",
              "    <tr>\n",
              "      <th>20</th>\n",
              "      <td>2015.2</td>\n",
              "      <td>Cancelado</td>\n",
              "      <td>1</td>\n",
              "    </tr>\n",
              "    <tr>\n",
              "      <th>21</th>\n",
              "      <td>2016.1</td>\n",
              "      <td>Aprovado</td>\n",
              "      <td>50</td>\n",
              "    </tr>\n",
              "    <tr>\n",
              "      <th>22</th>\n",
              "      <td>2016.1</td>\n",
              "      <td>Reprovado</td>\n",
              "      <td>10</td>\n",
              "    </tr>\n",
              "    <tr>\n",
              "      <th>23</th>\n",
              "      <td>2016.1</td>\n",
              "      <td>Reprovado por Falta</td>\n",
              "      <td>4</td>\n",
              "    </tr>\n",
              "    <tr>\n",
              "      <th>24</th>\n",
              "      <td>2016.1</td>\n",
              "      <td>Trancado</td>\n",
              "      <td>1</td>\n",
              "    </tr>\n",
              "    <tr>\n",
              "      <th>25</th>\n",
              "      <td>2016.2</td>\n",
              "      <td>Aprovado</td>\n",
              "      <td>57</td>\n",
              "    </tr>\n",
              "    <tr>\n",
              "      <th>26</th>\n",
              "      <td>2016.2</td>\n",
              "      <td>Reprovado</td>\n",
              "      <td>15</td>\n",
              "    </tr>\n",
              "    <tr>\n",
              "      <th>27</th>\n",
              "      <td>2016.2</td>\n",
              "      <td>Trancado</td>\n",
              "      <td>4</td>\n",
              "    </tr>\n",
              "    <tr>\n",
              "      <th>28</th>\n",
              "      <td>2016.2</td>\n",
              "      <td>Em Curso</td>\n",
              "      <td>3</td>\n",
              "    </tr>\n",
              "    <tr>\n",
              "      <th>29</th>\n",
              "      <td>2016.2</td>\n",
              "      <td>Reprovado por Falta</td>\n",
              "      <td>2</td>\n",
              "    </tr>\n",
              "    <tr>\n",
              "      <th>30</th>\n",
              "      <td>2017.1</td>\n",
              "      <td>Aprovado</td>\n",
              "      <td>47</td>\n",
              "    </tr>\n",
              "    <tr>\n",
              "      <th>31</th>\n",
              "      <td>2017.1</td>\n",
              "      <td>Em Curso</td>\n",
              "      <td>11</td>\n",
              "    </tr>\n",
              "    <tr>\n",
              "      <th>32</th>\n",
              "      <td>2017.1</td>\n",
              "      <td>Cancelado</td>\n",
              "      <td>1</td>\n",
              "    </tr>\n",
              "    <tr>\n",
              "      <th>33</th>\n",
              "      <td>2017.1</td>\n",
              "      <td>Reprovado por Falta</td>\n",
              "      <td>1</td>\n",
              "    </tr>\n",
              "    <tr>\n",
              "      <th>34</th>\n",
              "      <td>2017.2</td>\n",
              "      <td>Aprovado</td>\n",
              "      <td>31</td>\n",
              "    </tr>\n",
              "    <tr>\n",
              "      <th>35</th>\n",
              "      <td>2017.2</td>\n",
              "      <td>Em Curso</td>\n",
              "      <td>20</td>\n",
              "    </tr>\n",
              "    <tr>\n",
              "      <th>36</th>\n",
              "      <td>2017.2</td>\n",
              "      <td>Reprovado por Falta</td>\n",
              "      <td>2</td>\n",
              "    </tr>\n",
              "    <tr>\n",
              "      <th>37</th>\n",
              "      <td>2017.2</td>\n",
              "      <td>Reprovado</td>\n",
              "      <td>1</td>\n",
              "    </tr>\n",
              "    <tr>\n",
              "      <th>38</th>\n",
              "      <td>2017.2</td>\n",
              "      <td>Trancado</td>\n",
              "      <td>1</td>\n",
              "    </tr>\n",
              "    <tr>\n",
              "      <th>39</th>\n",
              "      <td>2018.1</td>\n",
              "      <td>Em Curso</td>\n",
              "      <td>23</td>\n",
              "    </tr>\n",
              "    <tr>\n",
              "      <th>40</th>\n",
              "      <td>2018.1</td>\n",
              "      <td>Aprovado</td>\n",
              "      <td>5</td>\n",
              "    </tr>\n",
              "    <tr>\n",
              "      <th>41</th>\n",
              "      <td>2018.2</td>\n",
              "      <td>Em Curso</td>\n",
              "      <td>7</td>\n",
              "    </tr>\n",
              "    <tr>\n",
              "      <th>42</th>\n",
              "      <td>2018.2</td>\n",
              "      <td>Aprovado</td>\n",
              "      <td>6</td>\n",
              "    </tr>\n",
              "    <tr>\n",
              "      <th>43</th>\n",
              "      <td>2018.2</td>\n",
              "      <td>Reprovado por Falta</td>\n",
              "      <td>2</td>\n",
              "    </tr>\n",
              "    <tr>\n",
              "      <th>44</th>\n",
              "      <td>2019.1</td>\n",
              "      <td>Aprovado</td>\n",
              "      <td>3</td>\n",
              "    </tr>\n",
              "    <tr>\n",
              "      <th>45</th>\n",
              "      <td>2019.2</td>\n",
              "      <td>Aprovado</td>\n",
              "      <td>7</td>\n",
              "    </tr>\n",
              "  </tbody>\n",
              "</table>\n",
              "</div>\n",
              "    <div class=\"colab-df-buttons\">\n",
              "\n",
              "  <div class=\"colab-df-container\">\n",
              "    <button class=\"colab-df-convert\" onclick=\"convertToInteractive('df-8fcfccf8-9af5-4b98-b405-36125d872c29')\"\n",
              "            title=\"Convert this dataframe to an interactive table.\"\n",
              "            style=\"display:none;\">\n",
              "\n",
              "  <svg xmlns=\"http://www.w3.org/2000/svg\" height=\"24px\" viewBox=\"0 -960 960 960\">\n",
              "    <path d=\"M120-120v-720h720v720H120Zm60-500h600v-160H180v160Zm220 220h160v-160H400v160Zm0 220h160v-160H400v160ZM180-400h160v-160H180v160Zm440 0h160v-160H620v160ZM180-180h160v-160H180v160Zm440 0h160v-160H620v160Z\"/>\n",
              "  </svg>\n",
              "    </button>\n",
              "\n",
              "  <style>\n",
              "    .colab-df-container {\n",
              "      display:flex;\n",
              "      gap: 12px;\n",
              "    }\n",
              "\n",
              "    .colab-df-convert {\n",
              "      background-color: #E8F0FE;\n",
              "      border: none;\n",
              "      border-radius: 50%;\n",
              "      cursor: pointer;\n",
              "      display: none;\n",
              "      fill: #1967D2;\n",
              "      height: 32px;\n",
              "      padding: 0 0 0 0;\n",
              "      width: 32px;\n",
              "    }\n",
              "\n",
              "    .colab-df-convert:hover {\n",
              "      background-color: #E2EBFA;\n",
              "      box-shadow: 0px 1px 2px rgba(60, 64, 67, 0.3), 0px 1px 3px 1px rgba(60, 64, 67, 0.15);\n",
              "      fill: #174EA6;\n",
              "    }\n",
              "\n",
              "    .colab-df-buttons div {\n",
              "      margin-bottom: 4px;\n",
              "    }\n",
              "\n",
              "    [theme=dark] .colab-df-convert {\n",
              "      background-color: #3B4455;\n",
              "      fill: #D2E3FC;\n",
              "    }\n",
              "\n",
              "    [theme=dark] .colab-df-convert:hover {\n",
              "      background-color: #434B5C;\n",
              "      box-shadow: 0px 1px 3px 1px rgba(0, 0, 0, 0.15);\n",
              "      filter: drop-shadow(0px 1px 2px rgba(0, 0, 0, 0.3));\n",
              "      fill: #FFFFFF;\n",
              "    }\n",
              "  </style>\n",
              "\n",
              "    <script>\n",
              "      const buttonEl =\n",
              "        document.querySelector('#df-8fcfccf8-9af5-4b98-b405-36125d872c29 button.colab-df-convert');\n",
              "      buttonEl.style.display =\n",
              "        google.colab.kernel.accessAllowed ? 'block' : 'none';\n",
              "\n",
              "      async function convertToInteractive(key) {\n",
              "        const element = document.querySelector('#df-8fcfccf8-9af5-4b98-b405-36125d872c29');\n",
              "        const dataTable =\n",
              "          await google.colab.kernel.invokeFunction('convertToInteractive',\n",
              "                                                    [key], {});\n",
              "        if (!dataTable) return;\n",
              "\n",
              "        const docLinkHtml = 'Like what you see? Visit the ' +\n",
              "          '<a target=\"_blank\" href=https://colab.research.google.com/notebooks/data_table.ipynb>data table notebook</a>'\n",
              "          + ' to learn more about interactive tables.';\n",
              "        element.innerHTML = '';\n",
              "        dataTable['output_type'] = 'display_data';\n",
              "        await google.colab.output.renderOutput(dataTable, element);\n",
              "        const docLink = document.createElement('div');\n",
              "        docLink.innerHTML = docLinkHtml;\n",
              "        element.appendChild(docLink);\n",
              "      }\n",
              "    </script>\n",
              "  </div>\n",
              "\n",
              "\n",
              "<div id=\"df-6a5844a6-441d-4f58-a712-f3fc1044f91a\">\n",
              "  <button class=\"colab-df-quickchart\" onclick=\"quickchart('df-6a5844a6-441d-4f58-a712-f3fc1044f91a')\"\n",
              "            title=\"Suggest charts.\"\n",
              "            style=\"display:none;\">\n",
              "\n",
              "<svg xmlns=\"http://www.w3.org/2000/svg\" height=\"24px\"viewBox=\"0 0 24 24\"\n",
              "     width=\"24px\">\n",
              "    <g>\n",
              "        <path d=\"M19 3H5c-1.1 0-2 .9-2 2v14c0 1.1.9 2 2 2h14c1.1 0 2-.9 2-2V5c0-1.1-.9-2-2-2zM9 17H7v-7h2v7zm4 0h-2V7h2v10zm4 0h-2v-4h2v4z\"/>\n",
              "    </g>\n",
              "</svg>\n",
              "  </button>\n",
              "\n",
              "<style>\n",
              "  .colab-df-quickchart {\n",
              "      --bg-color: #E8F0FE;\n",
              "      --fill-color: #1967D2;\n",
              "      --hover-bg-color: #E2EBFA;\n",
              "      --hover-fill-color: #174EA6;\n",
              "      --disabled-fill-color: #AAA;\n",
              "      --disabled-bg-color: #DDD;\n",
              "  }\n",
              "\n",
              "  [theme=dark] .colab-df-quickchart {\n",
              "      --bg-color: #3B4455;\n",
              "      --fill-color: #D2E3FC;\n",
              "      --hover-bg-color: #434B5C;\n",
              "      --hover-fill-color: #FFFFFF;\n",
              "      --disabled-bg-color: #3B4455;\n",
              "      --disabled-fill-color: #666;\n",
              "  }\n",
              "\n",
              "  .colab-df-quickchart {\n",
              "    background-color: var(--bg-color);\n",
              "    border: none;\n",
              "    border-radius: 50%;\n",
              "    cursor: pointer;\n",
              "    display: none;\n",
              "    fill: var(--fill-color);\n",
              "    height: 32px;\n",
              "    padding: 0;\n",
              "    width: 32px;\n",
              "  }\n",
              "\n",
              "  .colab-df-quickchart:hover {\n",
              "    background-color: var(--hover-bg-color);\n",
              "    box-shadow: 0 1px 2px rgba(60, 64, 67, 0.3), 0 1px 3px 1px rgba(60, 64, 67, 0.15);\n",
              "    fill: var(--button-hover-fill-color);\n",
              "  }\n",
              "\n",
              "  .colab-df-quickchart-complete:disabled,\n",
              "  .colab-df-quickchart-complete:disabled:hover {\n",
              "    background-color: var(--disabled-bg-color);\n",
              "    fill: var(--disabled-fill-color);\n",
              "    box-shadow: none;\n",
              "  }\n",
              "\n",
              "  .colab-df-spinner {\n",
              "    border: 2px solid var(--fill-color);\n",
              "    border-color: transparent;\n",
              "    border-bottom-color: var(--fill-color);\n",
              "    animation:\n",
              "      spin 1s steps(1) infinite;\n",
              "  }\n",
              "\n",
              "  @keyframes spin {\n",
              "    0% {\n",
              "      border-color: transparent;\n",
              "      border-bottom-color: var(--fill-color);\n",
              "      border-left-color: var(--fill-color);\n",
              "    }\n",
              "    20% {\n",
              "      border-color: transparent;\n",
              "      border-left-color: var(--fill-color);\n",
              "      border-top-color: var(--fill-color);\n",
              "    }\n",
              "    30% {\n",
              "      border-color: transparent;\n",
              "      border-left-color: var(--fill-color);\n",
              "      border-top-color: var(--fill-color);\n",
              "      border-right-color: var(--fill-color);\n",
              "    }\n",
              "    40% {\n",
              "      border-color: transparent;\n",
              "      border-right-color: var(--fill-color);\n",
              "      border-top-color: var(--fill-color);\n",
              "    }\n",
              "    60% {\n",
              "      border-color: transparent;\n",
              "      border-right-color: var(--fill-color);\n",
              "    }\n",
              "    80% {\n",
              "      border-color: transparent;\n",
              "      border-right-color: var(--fill-color);\n",
              "      border-bottom-color: var(--fill-color);\n",
              "    }\n",
              "    90% {\n",
              "      border-color: transparent;\n",
              "      border-bottom-color: var(--fill-color);\n",
              "    }\n",
              "  }\n",
              "</style>\n",
              "\n",
              "  <script>\n",
              "    async function quickchart(key) {\n",
              "      const quickchartButtonEl =\n",
              "        document.querySelector('#' + key + ' button');\n",
              "      quickchartButtonEl.disabled = true;  // To prevent multiple clicks.\n",
              "      quickchartButtonEl.classList.add('colab-df-spinner');\n",
              "      try {\n",
              "        const charts = await google.colab.kernel.invokeFunction(\n",
              "            'suggestCharts', [key], {});\n",
              "      } catch (error) {\n",
              "        console.error('Error during call to suggestCharts:', error);\n",
              "      }\n",
              "      quickchartButtonEl.classList.remove('colab-df-spinner');\n",
              "      quickchartButtonEl.classList.add('colab-df-quickchart-complete');\n",
              "    }\n",
              "    (() => {\n",
              "      let quickchartButtonEl =\n",
              "        document.querySelector('#df-6a5844a6-441d-4f58-a712-f3fc1044f91a button');\n",
              "      quickchartButtonEl.style.display =\n",
              "        google.colab.kernel.accessAllowed ? 'block' : 'none';\n",
              "    })();\n",
              "  </script>\n",
              "</div>\n",
              "    </div>\n",
              "  </div>\n"
            ]
          },
          "metadata": {},
          "execution_count": 3
        }
      ]
    },
    {
      "cell_type": "code",
      "source": [
        "final = teste.groupby('periodo_ingresso')['situacao'].value_counts().reset_index(name='contagem')\n",
        "f = final.value_counts().to_frame()\n",
        "del f[0]\n",
        "f = f.sort_values(by='periodo_ingresso')\n",
        "f"
      ],
      "metadata": {
        "id": "tqhO_Kh0vdS-",
        "colab": {
          "base_uri": "https://localhost:8080/",
          "height": 1000
        },
        "outputId": "e58c302d-c5c1-47b8-89a5-8777bdc553d6"
      },
      "execution_count": 4,
      "outputs": [
        {
          "output_type": "execute_result",
          "data": {
            "text/plain": [
              "Empty DataFrame\n",
              "Columns: []\n",
              "Index: [(2012.2, Aprovado, 2), (2012.2, Reprovado por Falta, 1), (2012.2, Reprovado, 3), (2013.1, Aprovado, 3), (2013.1, Reprovado, 1), (2013.2, Aprovado, 3), (2013.2, Em Curso, 1), (2013.2, Reprovado, 4), (2013.2, Reprovado por Falta, 2), (2013.2, Trancado, 3), (2014.1, Aprovado, 10), (2014.2, Cancelado, 1), (2014.2, Reprovado, 5), (2014.2, Reprovado por Falta, 1), (2014.2, Aprovado, 15), (2015.1, Aprovado, 54), (2015.1, Reprovado, 3), (2015.2, Aprovado, 50), (2015.2, Cancelado, 1), (2015.2, Reprovado, 8), (2015.2, Reprovado por Falta, 3), (2016.1, Reprovado, 10), (2016.1, Aprovado, 50), (2016.1, Trancado, 1), (2016.1, Reprovado por Falta, 4), (2016.2, Em Curso, 3), (2016.2, Reprovado, 15), (2016.2, Reprovado por Falta, 2), (2016.2, Trancado, 4), (2016.2, Aprovado, 57), (2017.1, Reprovado por Falta, 1), (2017.1, Aprovado, 47), (2017.1, Cancelado, 1), (2017.1, Em Curso, 11), (2017.2, Em Curso, 20), (2017.2, Reprovado por Falta, 2), (2017.2, Trancado, 1), (2017.2, Reprovado, 1), (2017.2, Aprovado, 31), (2018.1, Aprovado, 5), (2018.1, Em Curso, 23), (2018.2, Aprovado, 6), (2018.2, Em Curso, 7), (2018.2, Reprovado por Falta, 2), (2019.1, Aprovado, 3), (2019.2, Aprovado, 7)]"
            ],
            "text/html": [
              "\n",
              "  <div id=\"df-f0b16b30-aa71-4ac6-a9fc-64b7aaf871f6\" class=\"colab-df-container\">\n",
              "    <div>\n",
              "<style scoped>\n",
              "    .dataframe tbody tr th:only-of-type {\n",
              "        vertical-align: middle;\n",
              "    }\n",
              "\n",
              "    .dataframe tbody tr th {\n",
              "        vertical-align: top;\n",
              "    }\n",
              "\n",
              "    .dataframe thead th {\n",
              "        text-align: right;\n",
              "    }\n",
              "</style>\n",
              "<table border=\"1\" class=\"dataframe\">\n",
              "  <thead>\n",
              "    <tr style=\"text-align: right;\">\n",
              "      <th></th>\n",
              "      <th></th>\n",
              "      <th></th>\n",
              "    </tr>\n",
              "    <tr>\n",
              "      <th>periodo_ingresso</th>\n",
              "      <th>situacao</th>\n",
              "      <th>contagem</th>\n",
              "    </tr>\n",
              "  </thead>\n",
              "  <tbody>\n",
              "    <tr>\n",
              "      <th rowspan=\"3\" valign=\"top\">2012.2</th>\n",
              "      <th>Aprovado</th>\n",
              "      <th>2</th>\n",
              "    </tr>\n",
              "    <tr>\n",
              "      <th>Reprovado por Falta</th>\n",
              "      <th>1</th>\n",
              "    </tr>\n",
              "    <tr>\n",
              "      <th>Reprovado</th>\n",
              "      <th>3</th>\n",
              "    </tr>\n",
              "    <tr>\n",
              "      <th rowspan=\"2\" valign=\"top\">2013.1</th>\n",
              "      <th>Aprovado</th>\n",
              "      <th>3</th>\n",
              "    </tr>\n",
              "    <tr>\n",
              "      <th>Reprovado</th>\n",
              "      <th>1</th>\n",
              "    </tr>\n",
              "    <tr>\n",
              "      <th rowspan=\"5\" valign=\"top\">2013.2</th>\n",
              "      <th>Aprovado</th>\n",
              "      <th>3</th>\n",
              "    </tr>\n",
              "    <tr>\n",
              "      <th>Em Curso</th>\n",
              "      <th>1</th>\n",
              "    </tr>\n",
              "    <tr>\n",
              "      <th>Reprovado</th>\n",
              "      <th>4</th>\n",
              "    </tr>\n",
              "    <tr>\n",
              "      <th>Reprovado por Falta</th>\n",
              "      <th>2</th>\n",
              "    </tr>\n",
              "    <tr>\n",
              "      <th>Trancado</th>\n",
              "      <th>3</th>\n",
              "    </tr>\n",
              "    <tr>\n",
              "      <th>2014.1</th>\n",
              "      <th>Aprovado</th>\n",
              "      <th>10</th>\n",
              "    </tr>\n",
              "    <tr>\n",
              "      <th rowspan=\"4\" valign=\"top\">2014.2</th>\n",
              "      <th>Cancelado</th>\n",
              "      <th>1</th>\n",
              "    </tr>\n",
              "    <tr>\n",
              "      <th>Reprovado</th>\n",
              "      <th>5</th>\n",
              "    </tr>\n",
              "    <tr>\n",
              "      <th>Reprovado por Falta</th>\n",
              "      <th>1</th>\n",
              "    </tr>\n",
              "    <tr>\n",
              "      <th>Aprovado</th>\n",
              "      <th>15</th>\n",
              "    </tr>\n",
              "    <tr>\n",
              "      <th rowspan=\"2\" valign=\"top\">2015.1</th>\n",
              "      <th>Aprovado</th>\n",
              "      <th>54</th>\n",
              "    </tr>\n",
              "    <tr>\n",
              "      <th>Reprovado</th>\n",
              "      <th>3</th>\n",
              "    </tr>\n",
              "    <tr>\n",
              "      <th rowspan=\"4\" valign=\"top\">2015.2</th>\n",
              "      <th>Aprovado</th>\n",
              "      <th>50</th>\n",
              "    </tr>\n",
              "    <tr>\n",
              "      <th>Cancelado</th>\n",
              "      <th>1</th>\n",
              "    </tr>\n",
              "    <tr>\n",
              "      <th>Reprovado</th>\n",
              "      <th>8</th>\n",
              "    </tr>\n",
              "    <tr>\n",
              "      <th>Reprovado por Falta</th>\n",
              "      <th>3</th>\n",
              "    </tr>\n",
              "    <tr>\n",
              "      <th rowspan=\"4\" valign=\"top\">2016.1</th>\n",
              "      <th>Reprovado</th>\n",
              "      <th>10</th>\n",
              "    </tr>\n",
              "    <tr>\n",
              "      <th>Aprovado</th>\n",
              "      <th>50</th>\n",
              "    </tr>\n",
              "    <tr>\n",
              "      <th>Trancado</th>\n",
              "      <th>1</th>\n",
              "    </tr>\n",
              "    <tr>\n",
              "      <th>Reprovado por Falta</th>\n",
              "      <th>4</th>\n",
              "    </tr>\n",
              "    <tr>\n",
              "      <th rowspan=\"5\" valign=\"top\">2016.2</th>\n",
              "      <th>Em Curso</th>\n",
              "      <th>3</th>\n",
              "    </tr>\n",
              "    <tr>\n",
              "      <th>Reprovado</th>\n",
              "      <th>15</th>\n",
              "    </tr>\n",
              "    <tr>\n",
              "      <th>Reprovado por Falta</th>\n",
              "      <th>2</th>\n",
              "    </tr>\n",
              "    <tr>\n",
              "      <th>Trancado</th>\n",
              "      <th>4</th>\n",
              "    </tr>\n",
              "    <tr>\n",
              "      <th>Aprovado</th>\n",
              "      <th>57</th>\n",
              "    </tr>\n",
              "    <tr>\n",
              "      <th rowspan=\"4\" valign=\"top\">2017.1</th>\n",
              "      <th>Reprovado por Falta</th>\n",
              "      <th>1</th>\n",
              "    </tr>\n",
              "    <tr>\n",
              "      <th>Aprovado</th>\n",
              "      <th>47</th>\n",
              "    </tr>\n",
              "    <tr>\n",
              "      <th>Cancelado</th>\n",
              "      <th>1</th>\n",
              "    </tr>\n",
              "    <tr>\n",
              "      <th>Em Curso</th>\n",
              "      <th>11</th>\n",
              "    </tr>\n",
              "    <tr>\n",
              "      <th rowspan=\"5\" valign=\"top\">2017.2</th>\n",
              "      <th>Em Curso</th>\n",
              "      <th>20</th>\n",
              "    </tr>\n",
              "    <tr>\n",
              "      <th>Reprovado por Falta</th>\n",
              "      <th>2</th>\n",
              "    </tr>\n",
              "    <tr>\n",
              "      <th>Trancado</th>\n",
              "      <th>1</th>\n",
              "    </tr>\n",
              "    <tr>\n",
              "      <th>Reprovado</th>\n",
              "      <th>1</th>\n",
              "    </tr>\n",
              "    <tr>\n",
              "      <th>Aprovado</th>\n",
              "      <th>31</th>\n",
              "    </tr>\n",
              "    <tr>\n",
              "      <th rowspan=\"2\" valign=\"top\">2018.1</th>\n",
              "      <th>Aprovado</th>\n",
              "      <th>5</th>\n",
              "    </tr>\n",
              "    <tr>\n",
              "      <th>Em Curso</th>\n",
              "      <th>23</th>\n",
              "    </tr>\n",
              "    <tr>\n",
              "      <th rowspan=\"3\" valign=\"top\">2018.2</th>\n",
              "      <th>Aprovado</th>\n",
              "      <th>6</th>\n",
              "    </tr>\n",
              "    <tr>\n",
              "      <th>Em Curso</th>\n",
              "      <th>7</th>\n",
              "    </tr>\n",
              "    <tr>\n",
              "      <th>Reprovado por Falta</th>\n",
              "      <th>2</th>\n",
              "    </tr>\n",
              "    <tr>\n",
              "      <th>2019.1</th>\n",
              "      <th>Aprovado</th>\n",
              "      <th>3</th>\n",
              "    </tr>\n",
              "    <tr>\n",
              "      <th>2019.2</th>\n",
              "      <th>Aprovado</th>\n",
              "      <th>7</th>\n",
              "    </tr>\n",
              "  </tbody>\n",
              "</table>\n",
              "</div>\n",
              "    <div class=\"colab-df-buttons\">\n",
              "\n",
              "  <div class=\"colab-df-container\">\n",
              "    <button class=\"colab-df-convert\" onclick=\"convertToInteractive('df-f0b16b30-aa71-4ac6-a9fc-64b7aaf871f6')\"\n",
              "            title=\"Convert this dataframe to an interactive table.\"\n",
              "            style=\"display:none;\">\n",
              "\n",
              "  <svg xmlns=\"http://www.w3.org/2000/svg\" height=\"24px\" viewBox=\"0 -960 960 960\">\n",
              "    <path d=\"M120-120v-720h720v720H120Zm60-500h600v-160H180v160Zm220 220h160v-160H400v160Zm0 220h160v-160H400v160ZM180-400h160v-160H180v160Zm440 0h160v-160H620v160ZM180-180h160v-160H180v160Zm440 0h160v-160H620v160Z\"/>\n",
              "  </svg>\n",
              "    </button>\n",
              "\n",
              "  <style>\n",
              "    .colab-df-container {\n",
              "      display:flex;\n",
              "      gap: 12px;\n",
              "    }\n",
              "\n",
              "    .colab-df-convert {\n",
              "      background-color: #E8F0FE;\n",
              "      border: none;\n",
              "      border-radius: 50%;\n",
              "      cursor: pointer;\n",
              "      display: none;\n",
              "      fill: #1967D2;\n",
              "      height: 32px;\n",
              "      padding: 0 0 0 0;\n",
              "      width: 32px;\n",
              "    }\n",
              "\n",
              "    .colab-df-convert:hover {\n",
              "      background-color: #E2EBFA;\n",
              "      box-shadow: 0px 1px 2px rgba(60, 64, 67, 0.3), 0px 1px 3px 1px rgba(60, 64, 67, 0.15);\n",
              "      fill: #174EA6;\n",
              "    }\n",
              "\n",
              "    .colab-df-buttons div {\n",
              "      margin-bottom: 4px;\n",
              "    }\n",
              "\n",
              "    [theme=dark] .colab-df-convert {\n",
              "      background-color: #3B4455;\n",
              "      fill: #D2E3FC;\n",
              "    }\n",
              "\n",
              "    [theme=dark] .colab-df-convert:hover {\n",
              "      background-color: #434B5C;\n",
              "      box-shadow: 0px 1px 3px 1px rgba(0, 0, 0, 0.15);\n",
              "      filter: drop-shadow(0px 1px 2px rgba(0, 0, 0, 0.3));\n",
              "      fill: #FFFFFF;\n",
              "    }\n",
              "  </style>\n",
              "\n",
              "    <script>\n",
              "      const buttonEl =\n",
              "        document.querySelector('#df-f0b16b30-aa71-4ac6-a9fc-64b7aaf871f6 button.colab-df-convert');\n",
              "      buttonEl.style.display =\n",
              "        google.colab.kernel.accessAllowed ? 'block' : 'none';\n",
              "\n",
              "      async function convertToInteractive(key) {\n",
              "        const element = document.querySelector('#df-f0b16b30-aa71-4ac6-a9fc-64b7aaf871f6');\n",
              "        const dataTable =\n",
              "          await google.colab.kernel.invokeFunction('convertToInteractive',\n",
              "                                                    [key], {});\n",
              "        if (!dataTable) return;\n",
              "\n",
              "        const docLinkHtml = 'Like what you see? Visit the ' +\n",
              "          '<a target=\"_blank\" href=https://colab.research.google.com/notebooks/data_table.ipynb>data table notebook</a>'\n",
              "          + ' to learn more about interactive tables.';\n",
              "        element.innerHTML = '';\n",
              "        dataTable['output_type'] = 'display_data';\n",
              "        await google.colab.output.renderOutput(dataTable, element);\n",
              "        const docLink = document.createElement('div');\n",
              "        docLink.innerHTML = docLinkHtml;\n",
              "        element.appendChild(docLink);\n",
              "      }\n",
              "    </script>\n",
              "  </div>\n",
              "\n",
              "\n",
              "<div id=\"df-19c930a1-31e7-459c-8e73-2bb5f85fe7f6\">\n",
              "  <button class=\"colab-df-quickchart\" onclick=\"quickchart('df-19c930a1-31e7-459c-8e73-2bb5f85fe7f6')\"\n",
              "            title=\"Suggest charts.\"\n",
              "            style=\"display:none;\">\n",
              "\n",
              "<svg xmlns=\"http://www.w3.org/2000/svg\" height=\"24px\"viewBox=\"0 0 24 24\"\n",
              "     width=\"24px\">\n",
              "    <g>\n",
              "        <path d=\"M19 3H5c-1.1 0-2 .9-2 2v14c0 1.1.9 2 2 2h14c1.1 0 2-.9 2-2V5c0-1.1-.9-2-2-2zM9 17H7v-7h2v7zm4 0h-2V7h2v10zm4 0h-2v-4h2v4z\"/>\n",
              "    </g>\n",
              "</svg>\n",
              "  </button>\n",
              "\n",
              "<style>\n",
              "  .colab-df-quickchart {\n",
              "      --bg-color: #E8F0FE;\n",
              "      --fill-color: #1967D2;\n",
              "      --hover-bg-color: #E2EBFA;\n",
              "      --hover-fill-color: #174EA6;\n",
              "      --disabled-fill-color: #AAA;\n",
              "      --disabled-bg-color: #DDD;\n",
              "  }\n",
              "\n",
              "  [theme=dark] .colab-df-quickchart {\n",
              "      --bg-color: #3B4455;\n",
              "      --fill-color: #D2E3FC;\n",
              "      --hover-bg-color: #434B5C;\n",
              "      --hover-fill-color: #FFFFFF;\n",
              "      --disabled-bg-color: #3B4455;\n",
              "      --disabled-fill-color: #666;\n",
              "  }\n",
              "\n",
              "  .colab-df-quickchart {\n",
              "    background-color: var(--bg-color);\n",
              "    border: none;\n",
              "    border-radius: 50%;\n",
              "    cursor: pointer;\n",
              "    display: none;\n",
              "    fill: var(--fill-color);\n",
              "    height: 32px;\n",
              "    padding: 0;\n",
              "    width: 32px;\n",
              "  }\n",
              "\n",
              "  .colab-df-quickchart:hover {\n",
              "    background-color: var(--hover-bg-color);\n",
              "    box-shadow: 0 1px 2px rgba(60, 64, 67, 0.3), 0 1px 3px 1px rgba(60, 64, 67, 0.15);\n",
              "    fill: var(--button-hover-fill-color);\n",
              "  }\n",
              "\n",
              "  .colab-df-quickchart-complete:disabled,\n",
              "  .colab-df-quickchart-complete:disabled:hover {\n",
              "    background-color: var(--disabled-bg-color);\n",
              "    fill: var(--disabled-fill-color);\n",
              "    box-shadow: none;\n",
              "  }\n",
              "\n",
              "  .colab-df-spinner {\n",
              "    border: 2px solid var(--fill-color);\n",
              "    border-color: transparent;\n",
              "    border-bottom-color: var(--fill-color);\n",
              "    animation:\n",
              "      spin 1s steps(1) infinite;\n",
              "  }\n",
              "\n",
              "  @keyframes spin {\n",
              "    0% {\n",
              "      border-color: transparent;\n",
              "      border-bottom-color: var(--fill-color);\n",
              "      border-left-color: var(--fill-color);\n",
              "    }\n",
              "    20% {\n",
              "      border-color: transparent;\n",
              "      border-left-color: var(--fill-color);\n",
              "      border-top-color: var(--fill-color);\n",
              "    }\n",
              "    30% {\n",
              "      border-color: transparent;\n",
              "      border-left-color: var(--fill-color);\n",
              "      border-top-color: var(--fill-color);\n",
              "      border-right-color: var(--fill-color);\n",
              "    }\n",
              "    40% {\n",
              "      border-color: transparent;\n",
              "      border-right-color: var(--fill-color);\n",
              "      border-top-color: var(--fill-color);\n",
              "    }\n",
              "    60% {\n",
              "      border-color: transparent;\n",
              "      border-right-color: var(--fill-color);\n",
              "    }\n",
              "    80% {\n",
              "      border-color: transparent;\n",
              "      border-right-color: var(--fill-color);\n",
              "      border-bottom-color: var(--fill-color);\n",
              "    }\n",
              "    90% {\n",
              "      border-color: transparent;\n",
              "      border-bottom-color: var(--fill-color);\n",
              "    }\n",
              "  }\n",
              "</style>\n",
              "\n",
              "  <script>\n",
              "    async function quickchart(key) {\n",
              "      const quickchartButtonEl =\n",
              "        document.querySelector('#' + key + ' button');\n",
              "      quickchartButtonEl.disabled = true;  // To prevent multiple clicks.\n",
              "      quickchartButtonEl.classList.add('colab-df-spinner');\n",
              "      try {\n",
              "        const charts = await google.colab.kernel.invokeFunction(\n",
              "            'suggestCharts', [key], {});\n",
              "      } catch (error) {\n",
              "        console.error('Error during call to suggestCharts:', error);\n",
              "      }\n",
              "      quickchartButtonEl.classList.remove('colab-df-spinner');\n",
              "      quickchartButtonEl.classList.add('colab-df-quickchart-complete');\n",
              "    }\n",
              "    (() => {\n",
              "      let quickchartButtonEl =\n",
              "        document.querySelector('#df-19c930a1-31e7-459c-8e73-2bb5f85fe7f6 button');\n",
              "      quickchartButtonEl.style.display =\n",
              "        google.colab.kernel.accessAllowed ? 'block' : 'none';\n",
              "    })();\n",
              "  </script>\n",
              "</div>\n",
              "    </div>\n",
              "  </div>\n"
            ]
          },
          "metadata": {},
          "execution_count": 4
        }
      ]
    },
    {
      "cell_type": "code",
      "source": [
        "periodo = f.query(\"periodo_ingresso == 2012.2\").reset_index()\n",
        "periodo = periodo.reset_index()\n",
        "periodo = periodo[  [  'contagem','situacao'  ] ]\n",
        "sns.barplot( data=periodo, x='contagem', y= 'situacao').set_title('2012.2')"
      ],
      "metadata": {
        "colab": {
          "base_uri": "https://localhost:8080/",
          "height": 489
        },
        "id": "vw_STv6g-ZhJ",
        "outputId": "00829733-a75c-40db-c460-a73e7f90d1b7"
      },
      "execution_count": null,
      "outputs": [
        {
          "output_type": "execute_result",
          "data": {
            "text/plain": [
              "Text(0.5, 1.0, '2012.2')"
            ]
          },
          "metadata": {},
          "execution_count": 7
        },
        {
          "output_type": "display_data",
          "data": {
            "text/plain": [
              "<Figure size 640x480 with 1 Axes>"
            ],
            "image/png": "[encoded data removed]"
          },
          "metadata": {}
        }
      ]
    },
    {
      "cell_type": "markdown",
      "source": [
        "2012.2: Dos 5 que realmente fizeram a cadeira apenas 2 foram aprovados, um dado relativamente ruim já que foram reprovados mais que a maioria, mas pode ser relevado devido a pequena quantidade de pessoas e ser o começo da diciplina no plano de curso"
      ],
      "metadata": {
        "id": "PaV663td5kj5"
      }
    },
    {
      "cell_type": "code",
      "source": [
        "periodo = f.query(\"periodo_ingresso == 2013.1\").reset_index()\n",
        "periodo = periodo.reset_index()\n",
        "periodo = periodo[  [  'contagem','situacao'  ] ]\n",
        "sns.barplot( data=periodo, x='contagem', y= 'situacao').set_title('2013.1')"
      ],
      "metadata": {
        "colab": {
          "base_uri": "https://localhost:8080/",
          "height": 489
        },
        "id": "BB-SHmD3DEL0",
        "outputId": "a5e46bf5-3172-459a-d58a-f50603e97f7f"
      },
      "execution_count": null,
      "outputs": [
        {
          "output_type": "execute_result",
          "data": {
            "text/plain": [
              "Text(0.5, 1.0, '2013.1')"
            ]
          },
          "metadata": {},
          "execution_count": 8
        },
        {
          "output_type": "display_data",
          "data": {
            "text/plain": [
              "<Figure size 640x480 with 1 Axes>"
            ],
            "image/png": "[encoded data removed]"
          },
          "metadata": {}
        }
      ]
    },
    {
      "cell_type": "markdown",
      "source": [
        "2013.1: Ao contrario de 2012.2 mostra uma boa crescente na quantidade de aprovados"
      ],
      "metadata": {
        "id": "eA54J2QB5ql3"
      }
    },
    {
      "cell_type": "code",
      "source": [
        "periodo = f.query(\"periodo_ingresso == 2013.2\").reset_index()\n",
        "periodo = periodo.reset_index()\n",
        "periodo = periodo[  [  'contagem','situacao'  ] ]\n",
        "sns.barplot( data=periodo, x='contagem', y= 'situacao').set_title('2013.2')"
      ],
      "metadata": {
        "colab": {
          "base_uri": "https://localhost:8080/",
          "height": 489
        },
        "id": "YRmK3rZ9DbkQ",
        "outputId": "ff9d8b65-5c94-4bd0-be86-df6bda70c7c5"
      },
      "execution_count": null,
      "outputs": [
        {
          "output_type": "execute_result",
          "data": {
            "text/plain": [
              "Text(0.5, 1.0, '2013.2')"
            ]
          },
          "metadata": {},
          "execution_count": 9
        },
        {
          "output_type": "display_data",
          "data": {
            "text/plain": [
              "<Figure size 640x480 with 1 Axes>"
            ],
            "image/png": "[encoded data removed]"
          },
          "metadata": {}
        }
      ]
    },
    {
      "cell_type": "markdown",
      "source": [
        "2023.2: São dados mais organicos, já que mostram a variedade de casos, mas mesmo assim é preocupante a quantidade de reprovados em relação ao geral"
      ],
      "metadata": {
        "id": "pJsd7WtxVIJY"
      }
    },
    {
      "cell_type": "code",
      "source": [
        "periodo = f.query(\"periodo_ingresso == 2014.1\").reset_index()\n",
        "periodo = periodo.reset_index()\n",
        "periodo = periodo[  [  'contagem','situacao'  ] ]\n",
        "sns.barplot( data=periodo, x='contagem', y= 'situacao').set_title('2014.1')"
      ],
      "metadata": {
        "colab": {
          "base_uri": "https://localhost:8080/",
          "height": 489
        },
        "id": "Sf0KJCAvDbtn",
        "outputId": "9f193f89-8114-4817-852b-64a827968db5"
      },
      "execution_count": null,
      "outputs": [
        {
          "output_type": "execute_result",
          "data": {
            "text/plain": [
              "Text(0.5, 1.0, '2014.1')"
            ]
          },
          "metadata": {},
          "execution_count": 10
        },
        {
          "output_type": "display_data",
          "data": {
            "text/plain": [
              "<Figure size 640x480 with 1 Axes>"
            ],
            "image/png": "[encoded data removed]"
          },
          "metadata": {}
        }
      ]
    },
    {
      "cell_type": "markdown",
      "source": [
        "2014.1 : Ao contrario do periodo passado os dados desse periodo parecem bem secos, e todos daqui foram aprovados, provavelmente uma inconsistencia no banco de dados"
      ],
      "metadata": {
        "id": "W5BbClJYVZTe"
      }
    },
    {
      "cell_type": "code",
      "source": [
        "periodo = f.query(\"periodo_ingresso == 2014.2\").reset_index()\n",
        "periodo = periodo.reset_index()\n",
        "periodo = periodo[  [  'contagem','situacao'  ] ]\n",
        "sns.barplot( data=periodo, x='contagem', y= 'situacao').set_title('2014.2')\n",
        "#Segue uma crescente, mas dessa vez com dados mais organicos, com três a cada quatro alunos que realmente tentaram a materia sendo aprovados"
      ],
      "metadata": {
        "colab": {
          "base_uri": "https://localhost:8080/",
          "height": 489
        },
        "id": "Pb31wHosDb4Z",
        "outputId": "c8f02b7c-bc78-41a7-b973-fab7fef0923f"
      },
      "execution_count": null,
      "outputs": [
        {
          "output_type": "execute_result",
          "data": {
            "text/plain": [
              "Text(0.5, 1.0, '2014.2')"
            ]
          },
          "metadata": {},
          "execution_count": 11
        },
        {
          "output_type": "display_data",
          "data": {
            "text/plain": [
              "<Figure size 640x480 with 1 Axes>"
            ],
            "image/png": "[encoded data removed]"
          },
          "metadata": {}
        }
      ]
    },
    {
      "cell_type": "markdown",
      "source": [
        "2014.2: Segue uma crescente, mas dessa vez com dados mais organicos, com três a cada quatro alunos que realmente tentaram a materia sendo aprovados, uma boa proporção"
      ],
      "metadata": {
        "id": "Bi5CJy0aWMB8"
      }
    },
    {
      "cell_type": "code",
      "source": [
        "periodo = f.query(\"periodo_ingresso == 2015.1\").reset_index()\n",
        "periodo = periodo.reset_index()\n",
        "periodo = periodo[  [  'contagem','situacao'  ] ]\n",
        "sns.barplot( data=periodo, x='contagem', y= 'situacao').set_title('2015.1')"
      ],
      "metadata": {
        "colab": {
          "base_uri": "https://localhost:8080/",
          "height": 489
        },
        "id": "yGqojxL-Db9h",
        "outputId": "ed9df0cb-dde8-4e54-fe74-c067c5a2fe87"
      },
      "execution_count": null,
      "outputs": [
        {
          "output_type": "execute_result",
          "data": {
            "text/plain": [
              "Text(0.5, 1.0, '2015.1')"
            ]
          },
          "metadata": {},
          "execution_count": 12
        },
        {
          "output_type": "display_data",
          "data": {
            "text/plain": [
              "<Figure size 640x480 with 1 Axes>"
            ],
            "image/png": "[encoded data removed]"
          },
          "metadata": {}
        }
      ]
    },
    {
      "cell_type": "markdown",
      "source": [
        "2015.1: Aproveitamento muito bom de alunos aprovados, mas também pode-se perceber a tendencia de peridos .1 em serem mais constantes e nao terem trancamentos ou reprovações por falta"
      ],
      "metadata": {
        "id": "vuWnmRfCWThu"
      }
    },
    {
      "cell_type": "code",
      "source": [
        "periodo = f.query(\"periodo_ingresso == 2015.2\").reset_index()\n",
        "periodo = periodo.reset_index()\n",
        "periodo = periodo[  [  'contagem','situacao'  ] ]\n",
        "sns.barplot( data=periodo, x='contagem', y= 'situacao').set_title('2015.2')"
      ],
      "metadata": {
        "colab": {
          "base_uri": "https://localhost:8080/",
          "height": 489
        },
        "id": "3vTWMgy7DcC6",
        "outputId": "d7320ce5-536e-4964-f012-992046ff2bbf"
      },
      "execution_count": null,
      "outputs": [
        {
          "output_type": "execute_result",
          "data": {
            "text/plain": [
              "Text(0.5, 1.0, '2015.2')"
            ]
          },
          "metadata": {},
          "execution_count": 13
        },
        {
          "output_type": "display_data",
          "data": {
            "text/plain": [
              "<Figure size 640x480 with 1 Axes>"
            ],
            "image/png": "[encoded data removed]"
          },
          "metadata": {}
        }
      ]
    },
    {
      "cell_type": "code",
      "source": [
        "2015.2: Gigantesca maioria dos alunos aprovados, como segue a crescente"
      ],
      "metadata": {
        "id": "MpdoSzUqWYBF"
      },
      "execution_count": null,
      "outputs": []
    },
    {
      "cell_type": "code",
      "source": [
        "periodo = f.query(\"periodo_ingresso == 2016.1\").reset_index()\n",
        "periodo = periodo.reset_index()\n",
        "periodo = periodo[  [  'contagem','situacao'  ] ]\n",
        "sns.barplot( data=periodo, x='contagem', y= 'situacao').set_title('2016.1')"
      ],
      "metadata": {
        "colab": {
          "base_uri": "https://localhost:8080/",
          "height": 489
        },
        "id": "GLKLNXZVDcHL",
        "outputId": "cb183568-d83e-4488-b085-a6b74edda216"
      },
      "execution_count": null,
      "outputs": [
        {
          "output_type": "execute_result",
          "data": {
            "text/plain": [
              "Text(0.5, 1.0, '2016.1')"
            ]
          },
          "metadata": {},
          "execution_count": 14
        },
        {
          "output_type": "display_data",
          "data": {
            "text/plain": [
              "<Figure size 640x480 with 1 Axes>"
            ],
            "image/png": "[encoded data removed]"
          },
          "metadata": {}
        }
      ]
    },
    {
      "cell_type": "markdown",
      "source": [
        "2016.1: assim como 2015.2, grande parte dos alunos aprovados"
      ],
      "metadata": {
        "id": "nmWIX4igXMl3"
      }
    },
    {
      "cell_type": "code",
      "source": [
        "periodo = f.query(\"periodo_ingresso == 2016.2\").reset_index()\n",
        "periodo = periodo.reset_index()\n",
        "periodo = periodo[  [  'contagem','situacao'  ] ]\n",
        "sns.barplot( data=periodo, x='contagem', y= 'situacao').set_title('2016.2')"
      ],
      "metadata": {
        "colab": {
          "base_uri": "https://localhost:8080/",
          "height": 489
        },
        "id": "6c09PVTFDcKe",
        "outputId": "ba45bffa-db3b-4d57-ca3d-6ff2923ac7ed"
      },
      "execution_count": null,
      "outputs": [
        {
          "output_type": "execute_result",
          "data": {
            "text/plain": [
              "Text(0.5, 1.0, '2016.2')"
            ]
          },
          "metadata": {},
          "execution_count": 15
        },
        {
          "output_type": "display_data",
          "data": {
            "text/plain": [
              "<Figure size 640x480 with 1 Axes>"
            ],
            "image/png": "[encoded data removed]"
          },
          "metadata": {}
        }
      ]
    },
    {
      "cell_type": "markdown",
      "source": [
        "2016.2: Segue a crescente de alunos aprovados, mantendo a mesma razão de aprovados e reprovados"
      ],
      "metadata": {
        "id": "C8c1eN3XXRGy"
      }
    },
    {
      "cell_type": "code",
      "source": [
        "periodo = f.query(\"periodo_ingresso == 2017.1\").reset_index()\n",
        "periodo = periodo.reset_index()\n",
        "periodo = periodo[  [  'contagem','situacao'  ] ]\n",
        "sns.barplot( data=periodo, x='contagem', y= 'situacao').set_title('2017.1')"
      ],
      "metadata": {
        "colab": {
          "base_uri": "https://localhost:8080/",
          "height": 489
        },
        "id": "xyTtCPp-DcNV",
        "outputId": "be1c9377-873e-494c-d467-612b7ff0a846"
      },
      "execution_count": null,
      "outputs": [
        {
          "output_type": "execute_result",
          "data": {
            "text/plain": [
              "Text(0.5, 1.0, '2017.1')"
            ]
          },
          "metadata": {},
          "execution_count": 16
        },
        {
          "output_type": "display_data",
          "data": {
            "text/plain": [
              "<Figure size 640x480 with 1 Axes>"
            ],
            "image/png": "[encoded data removed]"
          },
          "metadata": {}
        }
      ]
    },
    {
      "cell_type": "markdown",
      "source": [
        "2017.1: Nesse pontos os dados estão bem estaveis e consolidados, quantidade alta de aprovados"
      ],
      "metadata": {
        "id": "OPs37izwXGT9"
      }
    },
    {
      "cell_type": "code",
      "source": [
        "periodo = f.query(\"periodo_ingresso == 2017.2\").reset_index()\n",
        "periodo = periodo.reset_index()\n",
        "periodo = periodo[  [  'contagem','situacao'  ] ]\n",
        "sns.barplot( data=periodo, x='contagem', y= 'situacao').set_title('2017.2')"
      ],
      "metadata": {
        "colab": {
          "base_uri": "https://localhost:8080/",
          "height": 489
        },
        "id": "wRJseu48DcPx",
        "outputId": "e4225d85-997b-4394-db22-57daac4b453e"
      },
      "execution_count": null,
      "outputs": [
        {
          "output_type": "execute_result",
          "data": {
            "text/plain": [
              "Text(0.5, 1.0, '2017.2')"
            ]
          },
          "metadata": {},
          "execution_count": 17
        },
        {
          "output_type": "display_data",
          "data": {
            "text/plain": [
              "<Figure size 640x480 with 1 Axes>"
            ],
            "image/png": "[encoded data removed]"
          },
          "metadata": {}
        }
      ]
    },
    {
      "cell_type": "markdown",
      "source": [
        "2017.2: Até aqui o período com dados mais organicos, uma quantidade boa de alunos e uma quantidade bem pequena de reprovados"
      ],
      "metadata": {
        "id": "sO3WcOmPW1zH"
      }
    },
    {
      "cell_type": "code",
      "source": [
        "periodo = f.query(\"periodo_ingresso == 2018.1\").reset_index()\n",
        "periodo = periodo.reset_index()\n",
        "periodo = periodo[  [  'contagem','situacao'  ] ]\n",
        "sns.barplot( data=periodo, x='contagem', y= 'situacao').set_title('2018.1')"
      ],
      "metadata": {
        "colab": {
          "base_uri": "https://localhost:8080/",
          "height": 489
        },
        "id": "_5c47vGKDcSe",
        "outputId": "7b2173a3-75c8-433b-b3a6-76db9f149a40"
      },
      "execution_count": null,
      "outputs": [
        {
          "output_type": "execute_result",
          "data": {
            "text/plain": [
              "Text(0.5, 1.0, '2018.1')"
            ]
          },
          "metadata": {},
          "execution_count": 18
        },
        {
          "output_type": "display_data",
          "data": {
            "text/plain": [
              "<Figure size 640x480 with 1 Axes>"
            ],
            "image/png": "[encoded data removed]"
          },
          "metadata": {}
        }
      ]
    },
    {
      "cell_type": "markdown",
      "source": [
        "2018.1: Começa a perceber a crescente de lunos em curso nos dados, fazendo com que a anaise não seja 100% precisa, mas é curioso notar a ausência de reprovações"
      ],
      "metadata": {
        "id": "GKNtQqSjWzDV"
      }
    },
    {
      "cell_type": "code",
      "source": [
        "periodo = f.query(\"periodo_ingresso == 2018.2\").reset_index()\n",
        "periodo = periodo.reset_index()\n",
        "periodo = periodo[  [  'contagem','situacao'  ] ]\n",
        "sns.barplot( data=periodo, x='contagem', y= 'situacao').set_title('2018.2')"
      ],
      "metadata": {
        "colab": {
          "base_uri": "https://localhost:8080/",
          "height": 489
        },
        "id": "4eU8NhcMDcU4",
        "outputId": "a33ea8d9-a584-456c-b813-e3895b19b972"
      },
      "execution_count": null,
      "outputs": [
        {
          "output_type": "execute_result",
          "data": {
            "text/plain": [
              "Text(0.5, 1.0, '2018.2')"
            ]
          },
          "metadata": {},
          "execution_count": 19
        },
        {
          "output_type": "display_data",
          "data": {
            "text/plain": [
              "<Figure size 640x480 with 1 Axes>"
            ],
            "image/png": "[encoded data removed]"
          },
          "metadata": {}
        }
      ]
    },
    {
      "cell_type": "markdown",
      "source": [
        "2018.2: Um pouco menor a razão entre aprovados e em curso se comparado com 18.1, mas ainda sim bastante alunos em curso, curioso notar 2 individuos com reprovação por falta"
      ],
      "metadata": {
        "id": "5ft4ckCmWsz9"
      }
    },
    {
      "cell_type": "code",
      "source": [
        "periodo = f.query(\"periodo_ingresso == 2019.1\").reset_index()\n",
        "periodo = periodo.reset_index()\n",
        "periodo = periodo[  [  'contagem','situacao'  ] ]\n",
        "sns.barplot( data=periodo, x='contagem', y= 'situacao').set_title('2019.1')"
      ],
      "metadata": {
        "colab": {
          "base_uri": "https://localhost:8080/",
          "height": 489
        },
        "id": "EEPVnHhrDcXC",
        "outputId": "019d0214-bb17-4613-c3b4-bb26258bd303"
      },
      "execution_count": null,
      "outputs": [
        {
          "output_type": "execute_result",
          "data": {
            "text/plain": [
              "Text(0.5, 1.0, '2019.1')"
            ]
          },
          "metadata": {},
          "execution_count": 20
        },
        {
          "output_type": "display_data",
          "data": {
            "text/plain": [
              "<Figure size 640x480 with 1 Axes>"
            ],
            "image/png": "[encoded data removed]"
          },
          "metadata": {}
        }
      ]
    },
    {
      "cell_type": "markdown",
      "source": [
        "2019.1: Todos os 3 alunos que fizeram a disciplina passaram, dados insulficientes, sem muito a comentar"
      ],
      "metadata": {
        "id": "P3YMaWPsWhn7"
      }
    },
    {
      "cell_type": "code",
      "source": [
        "periodo = f.query(\"periodo_ingresso == 2019.2\").reset_index()\n",
        "periodo = periodo.reset_index()\n",
        "periodo = periodo[  [  'contagem','situacao'  ] ]\n",
        "sns.barplot( data=periodo, x='contagem', y= 'situacao').set_title('2019.2')"
      ],
      "metadata": {
        "colab": {
          "base_uri": "https://localhost:8080/",
          "height": 489
        },
        "id": "mtSeDBvoF4GT",
        "outputId": "ca2cb285-ed5d-4746-a548-fab288a43900"
      },
      "execution_count": null,
      "outputs": [
        {
          "output_type": "execute_result",
          "data": {
            "text/plain": [
              "Text(0.5, 1.0, '2019.2')"
            ]
          },
          "metadata": {},
          "execution_count": 21
        },
        {
          "output_type": "display_data",
          "data": {
            "text/plain": [
              "<Figure size 640x480 with 1 Axes>"
            ],
            "image/png": "[encoded data removed]"
          },
          "metadata": {}
        }
      ]
    },
    {
      "cell_type": "markdown",
      "source": [
        "2019.2: Assim como 2019.1, todos que pagaram a disciplina passaram"
      ],
      "metadata": {
        "id": "v6SbGWrqWb76"
      }
    }
  ],
  "metadata": {
    "colab": {
      "provenance": []
    },
    "kernelspec": {
      "display_name": "Python 3",
      "name": "python3"
    },
    "language_info": {
      "name": "python"
    }
  },
  "nbformat": 4,
  "nbformat_minor": 0
}